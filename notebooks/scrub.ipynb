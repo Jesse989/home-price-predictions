{
 "cells": [
  {
   "cell_type": "markdown",
   "metadata": {},
   "source": [
    "# Scrub the Data\n",
    "The scrubbing phase of ROSEMED is very important, especially for Linear Regression models, which requires numerical data inputs which are normally distributed. This means it is important to make sure we eliminate missing or faulty data, either by filling in or dropping."
   ]
  },
  {
   "cell_type": "code",
   "execution_count": 1,
   "metadata": {},
   "outputs": [],
   "source": [
    "import pandas as pd\n",
    "import numpy as np\n",
    "\n",
    "df = pd.read_csv('../data/interim/combined_df.csv', index_col=0)"
   ]
  },
  {
   "cell_type": "markdown",
   "metadata": {},
   "source": [
    "Time to check out our dataset and see what can be done to clean it up and put it in the right format"
   ]
  },
  {
   "cell_type": "code",
   "execution_count": 2,
   "metadata": {},
   "outputs": [
    {
     "data": {
      "text/html": [
       "<div>\n",
       "<style scoped>\n",
       "    .dataframe tbody tr th:only-of-type {\n",
       "        vertical-align: middle;\n",
       "    }\n",
       "\n",
       "    .dataframe tbody tr th {\n",
       "        vertical-align: top;\n",
       "    }\n",
       "\n",
       "    .dataframe thead th {\n",
       "        text-align: right;\n",
       "    }\n",
       "</style>\n",
       "<table border=\"1\" class=\"dataframe\">\n",
       "  <thead>\n",
       "    <tr style=\"text-align: right;\">\n",
       "      <th></th>\n",
       "      <th>id</th>\n",
       "      <th>school_kms</th>\n",
       "      <th>school_mins</th>\n",
       "      <th>date</th>\n",
       "      <th>price</th>\n",
       "      <th>bedrooms</th>\n",
       "      <th>bathrooms</th>\n",
       "      <th>sqft_living</th>\n",
       "      <th>sqft_lot</th>\n",
       "      <th>floors</th>\n",
       "      <th>...</th>\n",
       "      <th>zipcode</th>\n",
       "      <th>lat</th>\n",
       "      <th>long</th>\n",
       "      <th>sqft_living15</th>\n",
       "      <th>sqft_lot15</th>\n",
       "      <th>median_household_income</th>\n",
       "      <th>median_home_value</th>\n",
       "      <th>walk_score</th>\n",
       "      <th>transit_score</th>\n",
       "      <th>bike_score</th>\n",
       "    </tr>\n",
       "  </thead>\n",
       "  <tbody>\n",
       "    <tr>\n",
       "      <th>0</th>\n",
       "      <td>1000102</td>\n",
       "      <td>20.761</td>\n",
       "      <td>26.117</td>\n",
       "      <td>9/16/2014</td>\n",
       "      <td>280000.0</td>\n",
       "      <td>6</td>\n",
       "      <td>3.00</td>\n",
       "      <td>2400</td>\n",
       "      <td>9373</td>\n",
       "      <td>2.0</td>\n",
       "      <td>...</td>\n",
       "      <td>98002</td>\n",
       "      <td>47.3262</td>\n",
       "      <td>-122.214</td>\n",
       "      <td>2060</td>\n",
       "      <td>7316</td>\n",
       "      <td>43568</td>\n",
       "      <td>167100</td>\n",
       "      <td>49</td>\n",
       "      <td>None</td>\n",
       "      <td>72</td>\n",
       "    </tr>\n",
       "    <tr>\n",
       "      <th>2</th>\n",
       "      <td>1000102</td>\n",
       "      <td>20.761</td>\n",
       "      <td>26.117</td>\n",
       "      <td>4/22/2015</td>\n",
       "      <td>300000.0</td>\n",
       "      <td>6</td>\n",
       "      <td>3.00</td>\n",
       "      <td>2400</td>\n",
       "      <td>9373</td>\n",
       "      <td>2.0</td>\n",
       "      <td>...</td>\n",
       "      <td>98002</td>\n",
       "      <td>47.3262</td>\n",
       "      <td>-122.214</td>\n",
       "      <td>2060</td>\n",
       "      <td>7316</td>\n",
       "      <td>43568</td>\n",
       "      <td>167100</td>\n",
       "      <td>49</td>\n",
       "      <td>None</td>\n",
       "      <td>72</td>\n",
       "    </tr>\n",
       "    <tr>\n",
       "      <th>8</th>\n",
       "      <td>1200019</td>\n",
       "      <td>18.352</td>\n",
       "      <td>26.150</td>\n",
       "      <td>5/8/2014</td>\n",
       "      <td>647500.0</td>\n",
       "      <td>4</td>\n",
       "      <td>1.75</td>\n",
       "      <td>2060</td>\n",
       "      <td>26036</td>\n",
       "      <td>1.0</td>\n",
       "      <td>...</td>\n",
       "      <td>98166</td>\n",
       "      <td>47.4444</td>\n",
       "      <td>-122.351</td>\n",
       "      <td>2590</td>\n",
       "      <td>21891</td>\n",
       "      <td>63320</td>\n",
       "      <td>386900</td>\n",
       "      <td>10</td>\n",
       "      <td>None</td>\n",
       "      <td>18</td>\n",
       "    </tr>\n",
       "    <tr>\n",
       "      <th>9</th>\n",
       "      <td>1200021</td>\n",
       "      <td>18.372</td>\n",
       "      <td>25.700</td>\n",
       "      <td>8/11/2014</td>\n",
       "      <td>400000.0</td>\n",
       "      <td>3</td>\n",
       "      <td>1.00</td>\n",
       "      <td>1460</td>\n",
       "      <td>43000</td>\n",
       "      <td>1.0</td>\n",
       "      <td>...</td>\n",
       "      <td>98166</td>\n",
       "      <td>47.4434</td>\n",
       "      <td>-122.347</td>\n",
       "      <td>2250</td>\n",
       "      <td>20023</td>\n",
       "      <td>63320</td>\n",
       "      <td>386900</td>\n",
       "      <td>9</td>\n",
       "      <td>None</td>\n",
       "      <td>24</td>\n",
       "    </tr>\n",
       "    <tr>\n",
       "      <th>10</th>\n",
       "      <td>2800031</td>\n",
       "      <td>18.673</td>\n",
       "      <td>17.917</td>\n",
       "      <td>4/1/2015</td>\n",
       "      <td>235000.0</td>\n",
       "      <td>3</td>\n",
       "      <td>1.00</td>\n",
       "      <td>1430</td>\n",
       "      <td>7599</td>\n",
       "      <td>1.5</td>\n",
       "      <td>...</td>\n",
       "      <td>98168</td>\n",
       "      <td>47.4783</td>\n",
       "      <td>-122.265</td>\n",
       "      <td>1290</td>\n",
       "      <td>10320</td>\n",
       "      <td>49233</td>\n",
       "      <td>240000</td>\n",
       "      <td>34</td>\n",
       "      <td>None</td>\n",
       "      <td>25</td>\n",
       "    </tr>\n",
       "  </tbody>\n",
       "</table>\n",
       "<p>5 rows × 28 columns</p>\n",
       "</div>"
      ],
      "text/plain": [
       "         id  school_kms  school_mins       date     price  bedrooms  \\\n",
       "0   1000102      20.761       26.117  9/16/2014  280000.0         6   \n",
       "2   1000102      20.761       26.117  4/22/2015  300000.0         6   \n",
       "8   1200019      18.352       26.150   5/8/2014  647500.0         4   \n",
       "9   1200021      18.372       25.700  8/11/2014  400000.0         3   \n",
       "10  2800031      18.673       17.917   4/1/2015  235000.0         3   \n",
       "\n",
       "    bathrooms  sqft_living  sqft_lot  floors  ...  zipcode      lat     long  \\\n",
       "0        3.00         2400      9373     2.0  ...    98002  47.3262 -122.214   \n",
       "2        3.00         2400      9373     2.0  ...    98002  47.3262 -122.214   \n",
       "8        1.75         2060     26036     1.0  ...    98166  47.4444 -122.351   \n",
       "9        1.00         1460     43000     1.0  ...    98166  47.4434 -122.347   \n",
       "10       1.00         1430      7599     1.5  ...    98168  47.4783 -122.265   \n",
       "\n",
       "    sqft_living15  sqft_lot15 median_household_income  median_home_value  \\\n",
       "0            2060        7316                   43568             167100   \n",
       "2            2060        7316                   43568             167100   \n",
       "8            2590       21891                   63320             386900   \n",
       "9            2250       20023                   63320             386900   \n",
       "10           1290       10320                   49233             240000   \n",
       "\n",
       "    walk_score  transit_score  bike_score  \n",
       "0           49           None          72  \n",
       "2           49           None          72  \n",
       "8           10           None          18  \n",
       "9            9           None          24  \n",
       "10          34           None          25  \n",
       "\n",
       "[5 rows x 28 columns]"
      ]
     },
     "execution_count": 2,
     "metadata": {},
     "output_type": "execute_result"
    }
   ],
   "source": [
    "df.head()"
   ]
  },
  {
   "cell_type": "markdown",
   "metadata": {},
   "source": [
    "## Dealing with NaN's"
   ]
  },
  {
   "cell_type": "code",
   "execution_count": 3,
   "metadata": {},
   "outputs": [
    {
     "data": {
      "text/plain": [
       "id                            0\n",
       "school_kms                    0\n",
       "school_mins                   0\n",
       "date                          0\n",
       "price                         0\n",
       "bedrooms                      0\n",
       "bathrooms                     0\n",
       "sqft_living                   0\n",
       "sqft_lot                      0\n",
       "floors                        0\n",
       "waterfront                 2376\n",
       "view                         63\n",
       "condition                     0\n",
       "grade                         0\n",
       "sqft_above                    0\n",
       "sqft_basement                 0\n",
       "yr_built                      0\n",
       "yr_renovated               3842\n",
       "zipcode                       0\n",
       "lat                           0\n",
       "long                          0\n",
       "sqft_living15                 0\n",
       "sqft_lot15                    0\n",
       "median_household_income       0\n",
       "median_home_value             0\n",
       "walk_score                    0\n",
       "transit_score                 0\n",
       "bike_score                    0\n",
       "dtype: int64"
      ]
     },
     "execution_count": 3,
     "metadata": {},
     "output_type": "execute_result"
    }
   ],
   "source": [
    "df.isna().sum()"
   ]
  },
  {
   "cell_type": "markdown",
   "metadata": {},
   "source": [
    "Things to change:\n",
    "1. Deal with Nans:\n",
    "    - Waterfront: If we assume the zeros mean there is no waterfront, we can fill with zeros.\n",
    "    - View: Fill with the mode\n",
    "    - Yr_renovated: Will drop this column. With 3842 missing, and 19k 0's, there is not a lot of information.\n",
    "    - Scores: Fill with median"
   ]
  },
  {
   "cell_type": "code",
   "execution_count": 4,
   "metadata": {},
   "outputs": [],
   "source": [
    "df['waterfront'] = df['waterfront'].fillna(0)"
   ]
  },
  {
   "cell_type": "code",
   "execution_count": 5,
   "metadata": {},
   "outputs": [
    {
     "data": {
      "text/plain": [
       "0"
      ]
     },
     "execution_count": 5,
     "metadata": {},
     "output_type": "execute_result"
    }
   ],
   "source": [
    "df['waterfront'].isna().sum()"
   ]
  },
  {
   "cell_type": "code",
   "execution_count": 6,
   "metadata": {},
   "outputs": [],
   "source": [
    "df['view'] = df['view'].fillna(0)"
   ]
  },
  {
   "cell_type": "code",
   "execution_count": 7,
   "metadata": {},
   "outputs": [
    {
     "data": {
      "text/plain": [
       "0"
      ]
     },
     "execution_count": 7,
     "metadata": {},
     "output_type": "execute_result"
    }
   ],
   "source": [
    "df['view'].isna().sum()"
   ]
  },
  {
   "cell_type": "markdown",
   "metadata": {},
   "source": [
    "## Dropping Columns\n",
    "There are some columns we cannot use that we should drop here.\n",
    "Date sold indicates the date between 2014 and 2015 that the house was sold. This is not a big enough range, and looking at the months sold did not indicate any particular insights.\n",
    "\n",
    "Top_schools was left over from finding the distance/time from house to school.\n",
    "\n",
    "Waterfront has a lot of missing values. When I plotted them on the map they were only a fraction of the homes that were actually located on the water."
   ]
  },
  {
   "cell_type": "code",
   "execution_count": 8,
   "metadata": {},
   "outputs": [],
   "source": [
    "to_drop = ['date', 'yr_renovated', 'waterfront']"
   ]
  },
  {
   "cell_type": "code",
   "execution_count": 9,
   "metadata": {},
   "outputs": [],
   "source": [
    "df = df.drop(to_drop, axis=1)"
   ]
  },
  {
   "cell_type": "code",
   "execution_count": 10,
   "metadata": {},
   "outputs": [
    {
     "data": {
      "text/html": [
       "<div>\n",
       "<style scoped>\n",
       "    .dataframe tbody tr th:only-of-type {\n",
       "        vertical-align: middle;\n",
       "    }\n",
       "\n",
       "    .dataframe tbody tr th {\n",
       "        vertical-align: top;\n",
       "    }\n",
       "\n",
       "    .dataframe thead th {\n",
       "        text-align: right;\n",
       "    }\n",
       "</style>\n",
       "<table border=\"1\" class=\"dataframe\">\n",
       "  <thead>\n",
       "    <tr style=\"text-align: right;\">\n",
       "      <th></th>\n",
       "      <th>id</th>\n",
       "      <th>school_kms</th>\n",
       "      <th>school_mins</th>\n",
       "      <th>price</th>\n",
       "      <th>bedrooms</th>\n",
       "      <th>bathrooms</th>\n",
       "      <th>sqft_living</th>\n",
       "      <th>sqft_lot</th>\n",
       "      <th>floors</th>\n",
       "      <th>view</th>\n",
       "      <th>...</th>\n",
       "      <th>zipcode</th>\n",
       "      <th>lat</th>\n",
       "      <th>long</th>\n",
       "      <th>sqft_living15</th>\n",
       "      <th>sqft_lot15</th>\n",
       "      <th>median_household_income</th>\n",
       "      <th>median_home_value</th>\n",
       "      <th>walk_score</th>\n",
       "      <th>transit_score</th>\n",
       "      <th>bike_score</th>\n",
       "    </tr>\n",
       "  </thead>\n",
       "  <tbody>\n",
       "    <tr>\n",
       "      <th>0</th>\n",
       "      <td>1000102</td>\n",
       "      <td>20.761</td>\n",
       "      <td>26.117</td>\n",
       "      <td>280000.0</td>\n",
       "      <td>6</td>\n",
       "      <td>3.00</td>\n",
       "      <td>2400</td>\n",
       "      <td>9373</td>\n",
       "      <td>2.0</td>\n",
       "      <td>0.0</td>\n",
       "      <td>...</td>\n",
       "      <td>98002</td>\n",
       "      <td>47.3262</td>\n",
       "      <td>-122.214</td>\n",
       "      <td>2060</td>\n",
       "      <td>7316</td>\n",
       "      <td>43568</td>\n",
       "      <td>167100</td>\n",
       "      <td>49</td>\n",
       "      <td>None</td>\n",
       "      <td>72</td>\n",
       "    </tr>\n",
       "    <tr>\n",
       "      <th>2</th>\n",
       "      <td>1000102</td>\n",
       "      <td>20.761</td>\n",
       "      <td>26.117</td>\n",
       "      <td>300000.0</td>\n",
       "      <td>6</td>\n",
       "      <td>3.00</td>\n",
       "      <td>2400</td>\n",
       "      <td>9373</td>\n",
       "      <td>2.0</td>\n",
       "      <td>0.0</td>\n",
       "      <td>...</td>\n",
       "      <td>98002</td>\n",
       "      <td>47.3262</td>\n",
       "      <td>-122.214</td>\n",
       "      <td>2060</td>\n",
       "      <td>7316</td>\n",
       "      <td>43568</td>\n",
       "      <td>167100</td>\n",
       "      <td>49</td>\n",
       "      <td>None</td>\n",
       "      <td>72</td>\n",
       "    </tr>\n",
       "    <tr>\n",
       "      <th>8</th>\n",
       "      <td>1200019</td>\n",
       "      <td>18.352</td>\n",
       "      <td>26.150</td>\n",
       "      <td>647500.0</td>\n",
       "      <td>4</td>\n",
       "      <td>1.75</td>\n",
       "      <td>2060</td>\n",
       "      <td>26036</td>\n",
       "      <td>1.0</td>\n",
       "      <td>0.0</td>\n",
       "      <td>...</td>\n",
       "      <td>98166</td>\n",
       "      <td>47.4444</td>\n",
       "      <td>-122.351</td>\n",
       "      <td>2590</td>\n",
       "      <td>21891</td>\n",
       "      <td>63320</td>\n",
       "      <td>386900</td>\n",
       "      <td>10</td>\n",
       "      <td>None</td>\n",
       "      <td>18</td>\n",
       "    </tr>\n",
       "    <tr>\n",
       "      <th>9</th>\n",
       "      <td>1200021</td>\n",
       "      <td>18.372</td>\n",
       "      <td>25.700</td>\n",
       "      <td>400000.0</td>\n",
       "      <td>3</td>\n",
       "      <td>1.00</td>\n",
       "      <td>1460</td>\n",
       "      <td>43000</td>\n",
       "      <td>1.0</td>\n",
       "      <td>0.0</td>\n",
       "      <td>...</td>\n",
       "      <td>98166</td>\n",
       "      <td>47.4434</td>\n",
       "      <td>-122.347</td>\n",
       "      <td>2250</td>\n",
       "      <td>20023</td>\n",
       "      <td>63320</td>\n",
       "      <td>386900</td>\n",
       "      <td>9</td>\n",
       "      <td>None</td>\n",
       "      <td>24</td>\n",
       "    </tr>\n",
       "    <tr>\n",
       "      <th>10</th>\n",
       "      <td>2800031</td>\n",
       "      <td>18.673</td>\n",
       "      <td>17.917</td>\n",
       "      <td>235000.0</td>\n",
       "      <td>3</td>\n",
       "      <td>1.00</td>\n",
       "      <td>1430</td>\n",
       "      <td>7599</td>\n",
       "      <td>1.5</td>\n",
       "      <td>0.0</td>\n",
       "      <td>...</td>\n",
       "      <td>98168</td>\n",
       "      <td>47.4783</td>\n",
       "      <td>-122.265</td>\n",
       "      <td>1290</td>\n",
       "      <td>10320</td>\n",
       "      <td>49233</td>\n",
       "      <td>240000</td>\n",
       "      <td>34</td>\n",
       "      <td>None</td>\n",
       "      <td>25</td>\n",
       "    </tr>\n",
       "    <tr>\n",
       "      <th>...</th>\n",
       "      <td>...</td>\n",
       "      <td>...</td>\n",
       "      <td>...</td>\n",
       "      <td>...</td>\n",
       "      <td>...</td>\n",
       "      <td>...</td>\n",
       "      <td>...</td>\n",
       "      <td>...</td>\n",
       "      <td>...</td>\n",
       "      <td>...</td>\n",
       "      <td>...</td>\n",
       "      <td>...</td>\n",
       "      <td>...</td>\n",
       "      <td>...</td>\n",
       "      <td>...</td>\n",
       "      <td>...</td>\n",
       "      <td>...</td>\n",
       "      <td>...</td>\n",
       "      <td>...</td>\n",
       "      <td>...</td>\n",
       "      <td>...</td>\n",
       "    </tr>\n",
       "    <tr>\n",
       "      <th>22666</th>\n",
       "      <td>9842300095</td>\n",
       "      <td>3.102</td>\n",
       "      <td>8.817</td>\n",
       "      <td>365000.0</td>\n",
       "      <td>5</td>\n",
       "      <td>2.00</td>\n",
       "      <td>1600</td>\n",
       "      <td>4168</td>\n",
       "      <td>1.5</td>\n",
       "      <td>0.0</td>\n",
       "      <td>...</td>\n",
       "      <td>98126</td>\n",
       "      <td>47.5297</td>\n",
       "      <td>-122.381</td>\n",
       "      <td>1190</td>\n",
       "      <td>4168</td>\n",
       "      <td>66408</td>\n",
       "      <td>358100</td>\n",
       "      <td>51</td>\n",
       "      <td>None</td>\n",
       "      <td>56</td>\n",
       "    </tr>\n",
       "    <tr>\n",
       "      <th>22667</th>\n",
       "      <td>9842300485</td>\n",
       "      <td>3.038</td>\n",
       "      <td>7.783</td>\n",
       "      <td>380000.0</td>\n",
       "      <td>2</td>\n",
       "      <td>1.00</td>\n",
       "      <td>1040</td>\n",
       "      <td>7372</td>\n",
       "      <td>1.0</td>\n",
       "      <td>0.0</td>\n",
       "      <td>...</td>\n",
       "      <td>98126</td>\n",
       "      <td>47.5285</td>\n",
       "      <td>-122.378</td>\n",
       "      <td>1930</td>\n",
       "      <td>5150</td>\n",
       "      <td>66408</td>\n",
       "      <td>358100</td>\n",
       "      <td>56</td>\n",
       "      <td>None</td>\n",
       "      <td>59</td>\n",
       "    </tr>\n",
       "    <tr>\n",
       "      <th>22668</th>\n",
       "      <td>9842300540</td>\n",
       "      <td>2.952</td>\n",
       "      <td>8.050</td>\n",
       "      <td>339000.0</td>\n",
       "      <td>3</td>\n",
       "      <td>1.00</td>\n",
       "      <td>1100</td>\n",
       "      <td>4128</td>\n",
       "      <td>1.0</td>\n",
       "      <td>0.0</td>\n",
       "      <td>...</td>\n",
       "      <td>98126</td>\n",
       "      <td>47.5296</td>\n",
       "      <td>-122.379</td>\n",
       "      <td>1510</td>\n",
       "      <td>4538</td>\n",
       "      <td>66408</td>\n",
       "      <td>358100</td>\n",
       "      <td>54</td>\n",
       "      <td>None</td>\n",
       "      <td>53</td>\n",
       "    </tr>\n",
       "    <tr>\n",
       "      <th>22669</th>\n",
       "      <td>9895000040</td>\n",
       "      <td>1.302</td>\n",
       "      <td>3.150</td>\n",
       "      <td>399900.0</td>\n",
       "      <td>2</td>\n",
       "      <td>1.75</td>\n",
       "      <td>1410</td>\n",
       "      <td>1005</td>\n",
       "      <td>1.5</td>\n",
       "      <td>0.0</td>\n",
       "      <td>...</td>\n",
       "      <td>98027</td>\n",
       "      <td>47.5446</td>\n",
       "      <td>-122.018</td>\n",
       "      <td>1440</td>\n",
       "      <td>1188</td>\n",
       "      <td>100644</td>\n",
       "      <td>478800</td>\n",
       "      <td>72</td>\n",
       "      <td>None</td>\n",
       "      <td>73</td>\n",
       "    </tr>\n",
       "    <tr>\n",
       "      <th>22670</th>\n",
       "      <td>9900000190</td>\n",
       "      <td>11.037</td>\n",
       "      <td>20.800</td>\n",
       "      <td>268950.0</td>\n",
       "      <td>3</td>\n",
       "      <td>1.00</td>\n",
       "      <td>1320</td>\n",
       "      <td>8100</td>\n",
       "      <td>1.0</td>\n",
       "      <td>0.0</td>\n",
       "      <td>...</td>\n",
       "      <td>98166</td>\n",
       "      <td>47.4697</td>\n",
       "      <td>-122.351</td>\n",
       "      <td>1000</td>\n",
       "      <td>8100</td>\n",
       "      <td>63320</td>\n",
       "      <td>386900</td>\n",
       "      <td>87</td>\n",
       "      <td>None</td>\n",
       "      <td>49</td>\n",
       "    </tr>\n",
       "  </tbody>\n",
       "</table>\n",
       "<p>21597 rows × 25 columns</p>\n",
       "</div>"
      ],
      "text/plain": [
       "               id  school_kms  school_mins     price  bedrooms  bathrooms  \\\n",
       "0         1000102      20.761       26.117  280000.0         6       3.00   \n",
       "2         1000102      20.761       26.117  300000.0         6       3.00   \n",
       "8         1200019      18.352       26.150  647500.0         4       1.75   \n",
       "9         1200021      18.372       25.700  400000.0         3       1.00   \n",
       "10        2800031      18.673       17.917  235000.0         3       1.00   \n",
       "...           ...         ...          ...       ...       ...        ...   \n",
       "22666  9842300095       3.102        8.817  365000.0         5       2.00   \n",
       "22667  9842300485       3.038        7.783  380000.0         2       1.00   \n",
       "22668  9842300540       2.952        8.050  339000.0         3       1.00   \n",
       "22669  9895000040       1.302        3.150  399900.0         2       1.75   \n",
       "22670  9900000190      11.037       20.800  268950.0         3       1.00   \n",
       "\n",
       "       sqft_living  sqft_lot  floors  view  ...  zipcode      lat     long  \\\n",
       "0             2400      9373     2.0   0.0  ...    98002  47.3262 -122.214   \n",
       "2             2400      9373     2.0   0.0  ...    98002  47.3262 -122.214   \n",
       "8             2060     26036     1.0   0.0  ...    98166  47.4444 -122.351   \n",
       "9             1460     43000     1.0   0.0  ...    98166  47.4434 -122.347   \n",
       "10            1430      7599     1.5   0.0  ...    98168  47.4783 -122.265   \n",
       "...            ...       ...     ...   ...  ...      ...      ...      ...   \n",
       "22666         1600      4168     1.5   0.0  ...    98126  47.5297 -122.381   \n",
       "22667         1040      7372     1.0   0.0  ...    98126  47.5285 -122.378   \n",
       "22668         1100      4128     1.0   0.0  ...    98126  47.5296 -122.379   \n",
       "22669         1410      1005     1.5   0.0  ...    98027  47.5446 -122.018   \n",
       "22670         1320      8100     1.0   0.0  ...    98166  47.4697 -122.351   \n",
       "\n",
       "      sqft_living15  sqft_lot15  median_household_income  median_home_value  \\\n",
       "0              2060        7316                    43568             167100   \n",
       "2              2060        7316                    43568             167100   \n",
       "8              2590       21891                    63320             386900   \n",
       "9              2250       20023                    63320             386900   \n",
       "10             1290       10320                    49233             240000   \n",
       "...             ...         ...                      ...                ...   \n",
       "22666          1190        4168                    66408             358100   \n",
       "22667          1930        5150                    66408             358100   \n",
       "22668          1510        4538                    66408             358100   \n",
       "22669          1440        1188                   100644             478800   \n",
       "22670          1000        8100                    63320             386900   \n",
       "\n",
       "       walk_score  transit_score  bike_score  \n",
       "0              49           None          72  \n",
       "2              49           None          72  \n",
       "8              10           None          18  \n",
       "9               9           None          24  \n",
       "10             34           None          25  \n",
       "...           ...            ...         ...  \n",
       "22666          51           None          56  \n",
       "22667          56           None          59  \n",
       "22668          54           None          53  \n",
       "22669          72           None          73  \n",
       "22670          87           None          49  \n",
       "\n",
       "[21597 rows x 25 columns]"
      ]
     },
     "execution_count": 10,
     "metadata": {},
     "output_type": "execute_result"
    }
   ],
   "source": [
    "df"
   ]
  },
  {
   "cell_type": "markdown",
   "metadata": {},
   "source": [
    "## Dealing with non-numerical data types"
   ]
  },
  {
   "cell_type": "code",
   "execution_count": 11,
   "metadata": {},
   "outputs": [
    {
     "name": "stdout",
     "output_type": "stream",
     "text": [
      "<class 'pandas.core.frame.DataFrame'>\n",
      "Int64Index: 21597 entries, 0 to 22670\n",
      "Data columns (total 25 columns):\n",
      " #   Column                   Non-Null Count  Dtype  \n",
      "---  ------                   --------------  -----  \n",
      " 0   id                       21597 non-null  int64  \n",
      " 1   school_kms               21597 non-null  float64\n",
      " 2   school_mins              21597 non-null  float64\n",
      " 3   price                    21597 non-null  float64\n",
      " 4   bedrooms                 21597 non-null  int64  \n",
      " 5   bathrooms                21597 non-null  float64\n",
      " 6   sqft_living              21597 non-null  int64  \n",
      " 7   sqft_lot                 21597 non-null  int64  \n",
      " 8   floors                   21597 non-null  float64\n",
      " 9   view                     21597 non-null  float64\n",
      " 10  condition                21597 non-null  int64  \n",
      " 11  grade                    21597 non-null  int64  \n",
      " 12  sqft_above               21597 non-null  int64  \n",
      " 13  sqft_basement            21597 non-null  object \n",
      " 14  yr_built                 21597 non-null  int64  \n",
      " 15  zipcode                  21597 non-null  int64  \n",
      " 16  lat                      21597 non-null  float64\n",
      " 17  long                     21597 non-null  float64\n",
      " 18  sqft_living15            21597 non-null  int64  \n",
      " 19  sqft_lot15               21597 non-null  int64  \n",
      " 20  median_household_income  21597 non-null  int64  \n",
      " 21  median_home_value        21597 non-null  int64  \n",
      " 22  walk_score               21597 non-null  object \n",
      " 23  transit_score            21597 non-null  object \n",
      " 24  bike_score               21597 non-null  object \n",
      "dtypes: float64(8), int64(13), object(4)\n",
      "memory usage: 4.3+ MB\n"
     ]
    }
   ],
   "source": [
    "df.info()"
   ]
  },
  {
   "cell_type": "code",
   "execution_count": 12,
   "metadata": {},
   "outputs": [],
   "source": [
    "# fill in '?' with 0 and change type to float\n",
    "df['sqft_basement'] = df['sqft_basement'].replace({'?': 0}).astype(float)"
   ]
  },
  {
   "cell_type": "markdown",
   "metadata": {},
   "source": [
    "We should fill in some basements. We should be able to take sqft_living - sqft_above = sqft_basement"
   ]
  },
  {
   "cell_type": "code",
   "execution_count": 13,
   "metadata": {},
   "outputs": [],
   "source": [
    "df['sqft_basement'] = df['sqft_living'] - df['sqft_above']"
   ]
  },
  {
   "cell_type": "code",
   "execution_count": 14,
   "metadata": {},
   "outputs": [
    {
     "data": {
      "text/plain": [
       "13110"
      ]
     },
     "execution_count": 14,
     "metadata": {},
     "output_type": "execute_result"
    }
   ],
   "source": [
    "(df['sqft_basement'] == 0).sum()"
   ]
  },
  {
   "cell_type": "markdown",
   "metadata": {},
   "source": [
    "Doesnt make a huge difference"
   ]
  },
  {
   "cell_type": "markdown",
   "metadata": {},
   "source": [
    "Geometry will stay as an object. We will be using that for graphing, and will drop it before any modeling."
   ]
  },
  {
   "cell_type": "code",
   "execution_count": 15,
   "metadata": {},
   "outputs": [],
   "source": [
    "df['walk_score'] = df['walk_score'].replace({' None': -1}).astype(float).fillna(-1)\n",
    "df['transit_score'] = df['transit_score'].replace({' None': -1}).astype(float).fillna(-1)\n",
    "df['bike_score'] = df['bike_score'].replace({' None': -1}).astype(float).fillna(-1)"
   ]
  },
  {
   "cell_type": "code",
   "execution_count": 16,
   "metadata": {},
   "outputs": [
    {
     "name": "stdout",
     "output_type": "stream",
     "text": [
      "<class 'pandas.core.frame.DataFrame'>\n",
      "Int64Index: 21597 entries, 0 to 22670\n",
      "Data columns (total 25 columns):\n",
      " #   Column                   Non-Null Count  Dtype  \n",
      "---  ------                   --------------  -----  \n",
      " 0   id                       21597 non-null  int64  \n",
      " 1   school_kms               21597 non-null  float64\n",
      " 2   school_mins              21597 non-null  float64\n",
      " 3   price                    21597 non-null  float64\n",
      " 4   bedrooms                 21597 non-null  int64  \n",
      " 5   bathrooms                21597 non-null  float64\n",
      " 6   sqft_living              21597 non-null  int64  \n",
      " 7   sqft_lot                 21597 non-null  int64  \n",
      " 8   floors                   21597 non-null  float64\n",
      " 9   view                     21597 non-null  float64\n",
      " 10  condition                21597 non-null  int64  \n",
      " 11  grade                    21597 non-null  int64  \n",
      " 12  sqft_above               21597 non-null  int64  \n",
      " 13  sqft_basement            21597 non-null  int64  \n",
      " 14  yr_built                 21597 non-null  int64  \n",
      " 15  zipcode                  21597 non-null  int64  \n",
      " 16  lat                      21597 non-null  float64\n",
      " 17  long                     21597 non-null  float64\n",
      " 18  sqft_living15            21597 non-null  int64  \n",
      " 19  sqft_lot15               21597 non-null  int64  \n",
      " 20  median_household_income  21597 non-null  int64  \n",
      " 21  median_home_value        21597 non-null  int64  \n",
      " 22  walk_score               21597 non-null  float64\n",
      " 23  transit_score            21597 non-null  float64\n",
      " 24  bike_score               21597 non-null  float64\n",
      "dtypes: float64(11), int64(14)\n",
      "memory usage: 4.3 MB\n"
     ]
    }
   ],
   "source": [
    "df.info()"
   ]
  },
  {
   "cell_type": "markdown",
   "metadata": {},
   "source": [
    "## Dealing with outliers"
   ]
  },
  {
   "cell_type": "markdown",
   "metadata": {},
   "source": [
    "Getting rid of homes with prices over 1,000,000"
   ]
  },
  {
   "cell_type": "code",
   "execution_count": 17,
   "metadata": {},
   "outputs": [],
   "source": [
    "df = df[(df['price'] < 700000)] # remove any houses with prices over "
   ]
  },
  {
   "cell_type": "code",
   "execution_count": 18,
   "metadata": {},
   "outputs": [],
   "source": [
    "df = df[df['bedrooms'] <= 4] # remove any houses with more than 4 bedrooms"
   ]
  },
  {
   "cell_type": "code",
   "execution_count": 19,
   "metadata": {},
   "outputs": [
    {
     "data": {
      "text/html": [
       "<div>\n",
       "<style scoped>\n",
       "    .dataframe tbody tr th:only-of-type {\n",
       "        vertical-align: middle;\n",
       "    }\n",
       "\n",
       "    .dataframe tbody tr th {\n",
       "        vertical-align: top;\n",
       "    }\n",
       "\n",
       "    .dataframe thead th {\n",
       "        text-align: right;\n",
       "    }\n",
       "</style>\n",
       "<table border=\"1\" class=\"dataframe\">\n",
       "  <thead>\n",
       "    <tr style=\"text-align: right;\">\n",
       "      <th></th>\n",
       "      <th>id</th>\n",
       "      <th>school_kms</th>\n",
       "      <th>school_mins</th>\n",
       "      <th>price</th>\n",
       "      <th>bedrooms</th>\n",
       "      <th>bathrooms</th>\n",
       "      <th>sqft_living</th>\n",
       "      <th>sqft_lot</th>\n",
       "      <th>floors</th>\n",
       "      <th>view</th>\n",
       "      <th>...</th>\n",
       "      <th>zipcode</th>\n",
       "      <th>lat</th>\n",
       "      <th>long</th>\n",
       "      <th>sqft_living15</th>\n",
       "      <th>sqft_lot15</th>\n",
       "      <th>median_household_income</th>\n",
       "      <th>median_home_value</th>\n",
       "      <th>walk_score</th>\n",
       "      <th>transit_score</th>\n",
       "      <th>bike_score</th>\n",
       "    </tr>\n",
       "  </thead>\n",
       "  <tbody>\n",
       "  </tbody>\n",
       "</table>\n",
       "<p>0 rows × 25 columns</p>\n",
       "</div>"
      ],
      "text/plain": [
       "Empty DataFrame\n",
       "Columns: [id, school_kms, school_mins, price, bedrooms, bathrooms, sqft_living, sqft_lot, floors, view, condition, grade, sqft_above, sqft_basement, yr_built, zipcode, lat, long, sqft_living15, sqft_lot15, median_household_income, median_home_value, walk_score, transit_score, bike_score]\n",
       "Index: []\n",
       "\n",
       "[0 rows x 25 columns]"
      ]
     },
     "execution_count": 19,
     "metadata": {},
     "output_type": "execute_result"
    }
   ],
   "source": [
    "df[(df['bedrooms'] == 1) & (df['price'] > 1000000)] # remove odd outlier"
   ]
  },
  {
   "cell_type": "code",
   "execution_count": 20,
   "metadata": {},
   "outputs": [
    {
     "data": {
      "text/html": [
       "<div>\n",
       "<style scoped>\n",
       "    .dataframe tbody tr th:only-of-type {\n",
       "        vertical-align: middle;\n",
       "    }\n",
       "\n",
       "    .dataframe tbody tr th {\n",
       "        vertical-align: top;\n",
       "    }\n",
       "\n",
       "    .dataframe thead th {\n",
       "        text-align: right;\n",
       "    }\n",
       "</style>\n",
       "<table border=\"1\" class=\"dataframe\">\n",
       "  <thead>\n",
       "    <tr style=\"text-align: right;\">\n",
       "      <th></th>\n",
       "      <th>id</th>\n",
       "      <th>school_kms</th>\n",
       "      <th>school_mins</th>\n",
       "      <th>price</th>\n",
       "      <th>bedrooms</th>\n",
       "      <th>bathrooms</th>\n",
       "      <th>sqft_living</th>\n",
       "      <th>sqft_lot</th>\n",
       "      <th>floors</th>\n",
       "      <th>view</th>\n",
       "      <th>...</th>\n",
       "      <th>zipcode</th>\n",
       "      <th>lat</th>\n",
       "      <th>long</th>\n",
       "      <th>sqft_living15</th>\n",
       "      <th>sqft_lot15</th>\n",
       "      <th>median_household_income</th>\n",
       "      <th>median_home_value</th>\n",
       "      <th>walk_score</th>\n",
       "      <th>transit_score</th>\n",
       "      <th>bike_score</th>\n",
       "    </tr>\n",
       "  </thead>\n",
       "  <tbody>\n",
       "  </tbody>\n",
       "</table>\n",
       "<p>0 rows × 25 columns</p>\n",
       "</div>"
      ],
      "text/plain": [
       "Empty DataFrame\n",
       "Columns: [id, school_kms, school_mins, price, bedrooms, bathrooms, sqft_living, sqft_lot, floors, view, condition, grade, sqft_above, sqft_basement, yr_built, zipcode, lat, long, sqft_living15, sqft_lot15, median_household_income, median_home_value, walk_score, transit_score, bike_score]\n",
       "Index: []\n",
       "\n",
       "[0 rows x 25 columns]"
      ]
     },
     "execution_count": 20,
     "metadata": {},
     "output_type": "execute_result"
    }
   ],
   "source": [
    "df[(df['bedrooms'] == 2) & (df['price'] > 2000000)] # remove odd outlier"
   ]
  },
  {
   "cell_type": "code",
   "execution_count": 21,
   "metadata": {},
   "outputs": [],
   "source": [
    "df = df[(df['bathrooms'] <= 5)] # remove houses with more than 5 bathrooms"
   ]
  },
  {
   "cell_type": "code",
   "execution_count": 22,
   "metadata": {},
   "outputs": [],
   "source": [
    "df = df[df['sqft_living15'].between(500, 4000)] # remove homes with more than 5000 sqft"
   ]
  },
  {
   "cell_type": "code",
   "execution_count": 23,
   "metadata": {},
   "outputs": [],
   "source": [
    "df = df[(df['sqft_above'] <= 4000)] # remove homes with more than 5000 sqft"
   ]
  },
  {
   "cell_type": "code",
   "execution_count": 24,
   "metadata": {},
   "outputs": [],
   "source": [
    "df = df[(df['sqft_lot'] <= 500000)] # remove homes with more than 5 million sqft lot"
   ]
  },
  {
   "cell_type": "code",
   "execution_count": 25,
   "metadata": {},
   "outputs": [],
   "source": [
    "df = df[(df['floors'] <= 3)] # remove homes with more than 3 floors"
   ]
  },
  {
   "cell_type": "code",
   "execution_count": 26,
   "metadata": {},
   "outputs": [],
   "source": [
    "df = df[(df['school_kms'] < 40)]"
   ]
  },
  {
   "cell_type": "code",
   "execution_count": 27,
   "metadata": {},
   "outputs": [],
   "source": [
    "df = df[(df['school_mins'] < 40)]"
   ]
  },
  {
   "cell_type": "code",
   "execution_count": 28,
   "metadata": {},
   "outputs": [],
   "source": [
    "df = df[(df['grade'] >= 4) & (df['grade'] <= 10)]"
   ]
  },
  {
   "cell_type": "code",
   "execution_count": 29,
   "metadata": {},
   "outputs": [],
   "source": [
    "df = df[(df['median_household_income'] < 150000)]"
   ]
  },
  {
   "cell_type": "code",
   "execution_count": 30,
   "metadata": {},
   "outputs": [],
   "source": [
    "df = df[(df['median_home_value'] > 200000) & (df['median_home_value'] < 700000)]"
   ]
  },
  {
   "cell_type": "code",
   "execution_count": 31,
   "metadata": {},
   "outputs": [],
   "source": [
    "df = df[(df['walk_score'] < 100) & (df['walk_score'] > 0)]\n",
    "df = df[(df['bike_score'] < 100) & (df['bike_score'] > 0)]"
   ]
  },
  {
   "cell_type": "code",
   "execution_count": 32,
   "metadata": {},
   "outputs": [],
   "source": [
    "df.to_csv('../data/processed/housing_data.csv')"
   ]
  },
  {
   "cell_type": "code",
   "execution_count": null,
   "metadata": {},
   "outputs": [],
   "source": []
  }
 ],
 "metadata": {
  "kernelspec": {
   "display_name": "Python [conda env:gpd] *",
   "language": "python",
   "name": "conda-env-gpd-py"
  },
  "language_info": {
   "codemirror_mode": {
    "name": "ipython",
    "version": 3
   },
   "file_extension": ".py",
   "mimetype": "text/x-python",
   "name": "python",
   "nbconvert_exporter": "python",
   "pygments_lexer": "ipython3",
   "version": "3.7.7"
  }
 },
 "nbformat": 4,
 "nbformat_minor": 4
}
