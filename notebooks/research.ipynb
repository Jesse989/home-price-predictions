{
 "cells": [
  {
   "cell_type": "markdown",
   "metadata": {},
   "source": [
    "# Research The Domain\n",
    "Step one, research the project domain. Look for other solutions and ideas, find out what works and what doesnt work. Look at large players with solutions, such as Zillow and the county assessor."
   ]
  },
  {
   "cell_type": "markdown",
   "metadata": {},
   "source": [
    "## King County Assessor\n",
    "King county is where our data set is from, so it makes sense to start there and look for clues about what the data contains, and the context of the dataset.\n",
    "\n",
    "We find a little bit of information about the dataset, but there is a lot that is not included in the appendix.\n",
    "\n",
    "For example, it tells us about 'grade' and 'condition', though leaves out important features such as 'view'.\n",
    "\n",
    "We take the information and make a table out of it."
   ]
  },
  {
   "cell_type": "markdown",
   "metadata": {},
   "source": [
    "### Column Names and descriptions for Kings County Data Set\n",
    "Information about the data. Taken from multiple sources online including the King County government website.\n",
    "\n",
    "| Name | Description | \n",
    "|---|---|\n",
    "|**id**| Unique identified for a house |\n",
    "|**date**| Date house was sold |\n",
    "|**price**| The prediction target |\n",
    "|**bedrooms**| Number of bedrooms per house |\n",
    "|**bathrooms**| Number of bathrooms |\n",
    "|**sqft_livingsquare**| Total finished square footage of the home |\n",
    "|**sqft_lotsquare**| Total square footage of the lot |\n",
    "|**floorsTotal**| Total floors (levels) in the house |\n",
    "|**waterfront**| Whether or not the house has waterfront access |\n",
    "|**view**| Rating of the view quality |\n",
    "|**condition**| Relative to age and grade. Coded 1-5. See condition below |\n",
    "|**grade**| Represents the construction quality of improvements. Grades run from grade 1 to 13. See grade below |\n",
    "|**sqft_above**| Square footage of the house apart from basement |\n",
    "|**sqft_basement**| Square footage of the basement |\n",
    "|**yr_built**| Year the house was built |\n",
    "|**yr_renovated**| Year the house was renovated | \n",
    "|**zipcode**| zip | \n",
    "|**lat**| Latitude coordinate |\n",
    "|**long**| Longitude coordinate |\n",
    "|**sqft_living15**| The square footage of interior housing living space for the nearest 15 neighbors |\n",
    "|**sqft_lot15**| The square footage of the land lots of the nearest 15 neighbors |"
   ]
  },
  {
   "cell_type": "markdown",
   "metadata": {},
   "source": [
    "### Condition:\n",
    "From <a href=\"https://blue.kingcounty.com/Assessor/eRealProperty/ResidentialGlossary.aspx?idx=viewall&Parcel=7960900070&AreaReport=http://www.KingCounty.gov/depts/Assessor/Reports/area-reports/2019/residential-northeast/033.aspx#BuildingGradeKing\">King County Assesor Website</a>.\n",
    "\n",
    "\n",
    "| Index | Rating | Description |\n",
    "|---|---|---|\n",
    "| 1 | Poor | Repair and overhaul needed on painted surfaces, roofing, plumbing, heating and numerous functional inadequacies. Excessive deferred maintenance and abuse, limited value-in-use, approaching abandonment or major reconstruction; reuse or change in occupancy is imminent. Effective age is near the end of the scale regardless of the actual chronological age.|\n",
    "| 2 | Fair | Much repair needed. Many items need refinishing or overhauling, deferred maintenance obvious, inadequate building utility and systems all shortening the life expectancy and increasing the effective age.|\n",
    "| 3 | Average | Some evidence of deferred maintenance and normal obsolescence with age in that a few minor repairs are needed, along with some refinishing. All major components still functional and contributing toward an extended life expectancy. Effective age and utility is standard for like properties of its class and usage.|\n",
    "| 4 | Good | No obvious maintenance required but neither is everything new. Appearance and utility are above the standard and the overall effective age will be lower than the typical property.|\n",
    "| 5 | Very Good | All items well maintained, many having been overhauled and repaired as they have shown signs of wear, increasing the life expectancy and lowering the effective age with little deterioration or obsolescence evident with a high degree of utility.|\n",
    "\n",
    "### Grade:\n",
    "Also from <a href=\"https://blue.kingcounty.com/Assessor/eRealProperty/ResidentialGlossary.aspx?idx=viewall&Parcel=7960900070&AreaReport=http://www.KingCounty.gov/depts/Assessor/Reports/area-reports/2019/residential-northeast/033.aspx#BuildingGradeKing\">King County Assesor Website</a>.\n",
    "\n",
    "| Index | Description |\n",
    "|---|---|\n",
    "| 1-3 | Falls short of minimum building standards. Normally cabin or inferior structure.|\n",
    "| 4 | Generally older, low quality construction. Does not meet code.|\n",
    "| 5 | Low construction costs and workmanship. Small, simple design.|\n",
    "| 6 | Lowest grade currently meeting building code. Low quality materials and simple designs.|\n",
    "| 7 | Average grade of construction and design. Commonly seen in plats and older sub-divisions.|\n",
    "| 8 | Just above average in construction and design. Usually better materials in both the exterior and interior finish work.|\n",
    "| 9 | Better architectural design with extra interior and exterior design and quality.|\n",
    "| 10 | Homes of this quality generally have high quality features. Finish work is better and more design quality is seen in the floor plans. Generally have a larger square footage.|\n",
    "| 11 | Custom design and higher quality finish work with added amenities of solid woods, bathroom fixtures and more luxurious options.| \n",
    "| 12 | Custom design and excellent builders. All materials are of the highest quality and all conveniences are present.|\n",
    "| 13 | Generally custom designed and built. Mansion level. Large amount of highest quality cabinet work, wood trim, marble, entry ways etc.|"
   ]
  },
  {
   "cell_type": "markdown",
   "metadata": {},
   "source": [
    "## Zillow\n",
    "Zillow is the leader in home price predictions. They use a proprietary algorithm that makes predictions based on many different inputs. Features such as location, neighborhood, proximity to good schools, walk score, crime, houses purchase history, and others that are not disclosed.\n",
    "\n",
    "Some possible features that are easily obtainable and can be used for this project are: walk score, proximity to good schools, and crime."
   ]
  },
  {
   "cell_type": "markdown",
   "metadata": {},
   "source": [
    "### Walk Score\n",
    "Walk score is a easy attribute to add to our dataset, since there is a public API that we can query with address and lat/lon. Since we do not have any addresses though we will have to reverse look up the address with the lat and long.\n",
    "This is possible through the Bing API, and probably any other map/search provider, though Bing is the most easily available option.\n",
    "\n",
    "Once we had the address, we were ready to query the Walk Score API for each house in our dataset, and save the scores in new columns: Walk Score, Drive Score, Transit Score."
   ]
  },
  {
   "cell_type": "markdown",
   "metadata": {},
   "source": [
    "### Proximity to School (GreatSchools.com)\n",
    "For the proximity to schools we need to find a list of all the high rated schools in King County and then get the driving distance and time from each house to each school.\n",
    "\n",
    "This was a little bit more difficult, because the GreatSchools API did not appear to offer a simple route for obtaining the data I was looking for, which is a list of best schools and their respective ratings and addresses.\n",
    "\n",
    "Instead I created a scraper script that searched each city in the dataset, and viewed the results by highest rated. I then used this sorted rating by city results page to scrape the 9 and 10 rated schools, and save their information in a new file.\n",
    "\n",
    "After I had a list of all the 9 and 10 rated schools in King County, I was ready to use the Bing API again, this time to find the drive time and miles from each house to the nearest schools. Because I had a limited amount of API calls, I could not get drive time to each of the 50+ schools in King County, so I narrowed it down to the closest 10 schools using the Haversine distance, and then getting drive time and miles to those 10 schools.\n",
    "\n",
    "I saved the new data as two seperate columns: 'school_kms', 'school_mins', to indicate the kilometers required to drive to the nearest school, and the minutes to drive to the closest school."
   ]
  },
  {
   "cell_type": "markdown",
   "metadata": {},
   "source": [
    "### Crime\n",
    "If I had more time I would use the King County crime rate information, and create a new column based on the crime rate of the neighborhood that the house is part of."
   ]
  },
  {
   "cell_type": "code",
   "execution_count": null,
   "metadata": {},
   "outputs": [],
   "source": []
  }
 ],
 "metadata": {
  "kernelspec": {
   "display_name": "Python [conda env:gpd] *",
   "language": "python",
   "name": "conda-env-gpd-py"
  },
  "language_info": {
   "codemirror_mode": {
    "name": "ipython",
    "version": 3
   },
   "file_extension": ".py",
   "mimetype": "text/x-python",
   "name": "python",
   "nbconvert_exporter": "python",
   "pygments_lexer": "ipython3",
   "version": "3.7.7"
  }
 },
 "nbformat": 4,
 "nbformat_minor": 4
}
