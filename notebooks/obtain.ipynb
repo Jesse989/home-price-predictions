{
 "cells": [
  {
   "cell_type": "markdown",
   "metadata": {},
   "source": [
    "# Obtain the Data\n",
    "The second step of the ROSEMED process is to obtain the data.\n",
    "\n",
    "Here I will write the various scripts and functions that I used to obtain the data."
   ]
  },
  {
   "cell_type": "markdown",
   "metadata": {},
   "source": [
    "## Initial Data\n",
    "The initial dataset was given to me by the Flatiron school, and is a well known data science set, used in many Kaggle competitions and various online tutorials.\n",
    "\n",
    "I was given a set that had additional inconsistencies thrown in by the faculty at Flatiron, as a way to practice the techniques we have been learning."
   ]
  },
  {
   "cell_type": "code",
   "execution_count": 2,
   "metadata": {},
   "outputs": [],
   "source": [
    "import pandas as pd"
   ]
  },
  {
   "cell_type": "code",
   "execution_count": 231,
   "metadata": {},
   "outputs": [],
   "source": [
    "# load in initial dataset\n",
    "initial_df = pd.read_csv('../data/raw/kc_house_data.csv')"
   ]
  },
  {
   "cell_type": "code",
   "execution_count": 232,
   "metadata": {},
   "outputs": [
    {
     "data": {
      "text/html": [
       "<div>\n",
       "<style scoped>\n",
       "    .dataframe tbody tr th:only-of-type {\n",
       "        vertical-align: middle;\n",
       "    }\n",
       "\n",
       "    .dataframe tbody tr th {\n",
       "        vertical-align: top;\n",
       "    }\n",
       "\n",
       "    .dataframe thead th {\n",
       "        text-align: right;\n",
       "    }\n",
       "</style>\n",
       "<table border=\"1\" class=\"dataframe\">\n",
       "  <thead>\n",
       "    <tr style=\"text-align: right;\">\n",
       "      <th></th>\n",
       "      <th>id</th>\n",
       "      <th>date</th>\n",
       "      <th>price</th>\n",
       "      <th>bedrooms</th>\n",
       "      <th>bathrooms</th>\n",
       "      <th>sqft_living</th>\n",
       "      <th>sqft_lot</th>\n",
       "      <th>floors</th>\n",
       "      <th>waterfront</th>\n",
       "      <th>view</th>\n",
       "      <th>...</th>\n",
       "      <th>grade</th>\n",
       "      <th>sqft_above</th>\n",
       "      <th>sqft_basement</th>\n",
       "      <th>yr_built</th>\n",
       "      <th>yr_renovated</th>\n",
       "      <th>zipcode</th>\n",
       "      <th>lat</th>\n",
       "      <th>long</th>\n",
       "      <th>sqft_living15</th>\n",
       "      <th>sqft_lot15</th>\n",
       "    </tr>\n",
       "  </thead>\n",
       "  <tbody>\n",
       "    <tr>\n",
       "      <th>0</th>\n",
       "      <td>7129300520</td>\n",
       "      <td>10/13/2014</td>\n",
       "      <td>221900.0</td>\n",
       "      <td>3</td>\n",
       "      <td>1.00</td>\n",
       "      <td>1180</td>\n",
       "      <td>5650</td>\n",
       "      <td>1.0</td>\n",
       "      <td>NaN</td>\n",
       "      <td>0.0</td>\n",
       "      <td>...</td>\n",
       "      <td>7</td>\n",
       "      <td>1180</td>\n",
       "      <td>0.0</td>\n",
       "      <td>1955</td>\n",
       "      <td>0.0</td>\n",
       "      <td>98178</td>\n",
       "      <td>47.5112</td>\n",
       "      <td>-122.257</td>\n",
       "      <td>1340</td>\n",
       "      <td>5650</td>\n",
       "    </tr>\n",
       "    <tr>\n",
       "      <th>1</th>\n",
       "      <td>6414100192</td>\n",
       "      <td>12/9/2014</td>\n",
       "      <td>538000.0</td>\n",
       "      <td>3</td>\n",
       "      <td>2.25</td>\n",
       "      <td>2570</td>\n",
       "      <td>7242</td>\n",
       "      <td>2.0</td>\n",
       "      <td>0.0</td>\n",
       "      <td>0.0</td>\n",
       "      <td>...</td>\n",
       "      <td>7</td>\n",
       "      <td>2170</td>\n",
       "      <td>400.0</td>\n",
       "      <td>1951</td>\n",
       "      <td>1991.0</td>\n",
       "      <td>98125</td>\n",
       "      <td>47.7210</td>\n",
       "      <td>-122.319</td>\n",
       "      <td>1690</td>\n",
       "      <td>7639</td>\n",
       "    </tr>\n",
       "    <tr>\n",
       "      <th>2</th>\n",
       "      <td>5631500400</td>\n",
       "      <td>2/25/2015</td>\n",
       "      <td>180000.0</td>\n",
       "      <td>2</td>\n",
       "      <td>1.00</td>\n",
       "      <td>770</td>\n",
       "      <td>10000</td>\n",
       "      <td>1.0</td>\n",
       "      <td>0.0</td>\n",
       "      <td>0.0</td>\n",
       "      <td>...</td>\n",
       "      <td>6</td>\n",
       "      <td>770</td>\n",
       "      <td>0.0</td>\n",
       "      <td>1933</td>\n",
       "      <td>NaN</td>\n",
       "      <td>98028</td>\n",
       "      <td>47.7379</td>\n",
       "      <td>-122.233</td>\n",
       "      <td>2720</td>\n",
       "      <td>8062</td>\n",
       "    </tr>\n",
       "  </tbody>\n",
       "</table>\n",
       "<p>3 rows × 21 columns</p>\n",
       "</div>"
      ],
      "text/plain": [
       "           id        date     price  bedrooms  bathrooms  sqft_living  \\\n",
       "0  7129300520  10/13/2014  221900.0         3       1.00         1180   \n",
       "1  6414100192   12/9/2014  538000.0         3       2.25         2570   \n",
       "2  5631500400   2/25/2015  180000.0         2       1.00          770   \n",
       "\n",
       "   sqft_lot  floors  waterfront  view  ...  grade  sqft_above  sqft_basement  \\\n",
       "0      5650     1.0         NaN   0.0  ...      7        1180            0.0   \n",
       "1      7242     2.0         0.0   0.0  ...      7        2170          400.0   \n",
       "2     10000     1.0         0.0   0.0  ...      6         770            0.0   \n",
       "\n",
       "  yr_built  yr_renovated  zipcode      lat     long  sqft_living15  sqft_lot15  \n",
       "0     1955           0.0    98178  47.5112 -122.257           1340        5650  \n",
       "1     1951        1991.0    98125  47.7210 -122.319           1690        7639  \n",
       "2     1933           NaN    98028  47.7379 -122.233           2720        8062  \n",
       "\n",
       "[3 rows x 21 columns]"
      ]
     },
     "execution_count": 232,
     "metadata": {},
     "output_type": "execute_result"
    }
   ],
   "source": [
    "initial_df.head(3)"
   ]
  },
  {
   "cell_type": "code",
   "execution_count": 233,
   "metadata": {},
   "outputs": [
    {
     "name": "stdout",
     "output_type": "stream",
     "text": [
      "<class 'pandas.core.frame.DataFrame'>\n",
      "RangeIndex: 21597 entries, 0 to 21596\n",
      "Data columns (total 21 columns):\n",
      " #   Column         Non-Null Count  Dtype  \n",
      "---  ------         --------------  -----  \n",
      " 0   id             21597 non-null  int64  \n",
      " 1   date           21597 non-null  object \n",
      " 2   price          21597 non-null  float64\n",
      " 3   bedrooms       21597 non-null  int64  \n",
      " 4   bathrooms      21597 non-null  float64\n",
      " 5   sqft_living    21597 non-null  int64  \n",
      " 6   sqft_lot       21597 non-null  int64  \n",
      " 7   floors         21597 non-null  float64\n",
      " 8   waterfront     19221 non-null  float64\n",
      " 9   view           21534 non-null  float64\n",
      " 10  condition      21597 non-null  int64  \n",
      " 11  grade          21597 non-null  int64  \n",
      " 12  sqft_above     21597 non-null  int64  \n",
      " 13  sqft_basement  21597 non-null  object \n",
      " 14  yr_built       21597 non-null  int64  \n",
      " 15  yr_renovated   17755 non-null  float64\n",
      " 16  zipcode        21597 non-null  int64  \n",
      " 17  lat            21597 non-null  float64\n",
      " 18  long           21597 non-null  float64\n",
      " 19  sqft_living15  21597 non-null  int64  \n",
      " 20  sqft_lot15     21597 non-null  int64  \n",
      "dtypes: float64(8), int64(11), object(2)\n",
      "memory usage: 3.5+ MB\n"
     ]
    }
   ],
   "source": [
    "initial_df.info()"
   ]
  },
  {
   "cell_type": "markdown",
   "metadata": {},
   "source": [
    "## Additional Data\n",
    "Now it is time to bring in additional data that I chose from the research phase.\n",
    "\n",
    "The first steps are to transform the zipcode into something more useable. We will use a python library for that, called 'uszipcode'. We can use it to look up a zipcode and get important stats related to income or neighborhoods.\n",
    "\n",
    "That means finding a way to get the Walk Scores, and the GreatSchools information I chose to use earlier."
   ]
  },
  {
   "cell_type": "markdown",
   "metadata": {},
   "source": [
    "### Convert Zipcodes"
   ]
  },
  {
   "cell_type": "code",
   "execution_count": 170,
   "metadata": {},
   "outputs": [],
   "source": [
    "from uszipcode import SearchEngine, SimpleZipcode\n",
    "search = SearchEngine(simple_zipcode=False)"
   ]
  },
  {
   "cell_type": "code",
   "execution_count": 234,
   "metadata": {},
   "outputs": [],
   "source": [
    "def zco(x, attribute):\n",
    "    '''Take zipcode and return selected attribute'''\n",
    "    city = search.by_zipcode(x).to_dict()\n",
    "    return city[attribute] if attribute in city else x"
   ]
  },
  {
   "cell_type": "code",
   "execution_count": 333,
   "metadata": {},
   "outputs": [],
   "source": [
    "# decide which information to use\n",
    "attributes = ['median_household_income', 'median_home_value']"
   ]
  },
  {
   "cell_type": "code",
   "execution_count": 334,
   "metadata": {},
   "outputs": [
    {
     "data": {
      "text/plain": [
       "221600"
      ]
     },
     "execution_count": 334,
     "metadata": {},
     "output_type": "execute_result"
    }
   ],
   "source": [
    "zco(98003, 'median_home_value')"
   ]
  },
  {
   "cell_type": "code",
   "execution_count": 335,
   "metadata": {},
   "outputs": [],
   "source": [
    "for att in attributes:\n",
    "    initial_df[att] = initial_df['zipcode'].apply(lambda x: zco(x, att))"
   ]
  },
  {
   "cell_type": "code",
   "execution_count": 336,
   "metadata": {},
   "outputs": [
    {
     "name": "stdout",
     "output_type": "stream",
     "text": [
      "<class 'pandas.core.frame.DataFrame'>\n",
      "RangeIndex: 21597 entries, 0 to 21596\n",
      "Data columns (total 23 columns):\n",
      " #   Column                   Non-Null Count  Dtype  \n",
      "---  ------                   --------------  -----  \n",
      " 0   id                       21597 non-null  int64  \n",
      " 1   date                     21597 non-null  object \n",
      " 2   price                    21597 non-null  float64\n",
      " 3   bedrooms                 21597 non-null  int64  \n",
      " 4   bathrooms                21597 non-null  float64\n",
      " 5   sqft_living              21597 non-null  int64  \n",
      " 6   sqft_lot                 21597 non-null  int64  \n",
      " 7   floors                   21597 non-null  float64\n",
      " 8   waterfront               19221 non-null  float64\n",
      " 9   view                     21534 non-null  float64\n",
      " 10  condition                21597 non-null  int64  \n",
      " 11  grade                    21597 non-null  int64  \n",
      " 12  sqft_above               21597 non-null  int64  \n",
      " 13  sqft_basement            21597 non-null  object \n",
      " 14  yr_built                 21597 non-null  int64  \n",
      " 15  yr_renovated             17755 non-null  float64\n",
      " 16  zipcode                  21597 non-null  int64  \n",
      " 17  lat                      21597 non-null  float64\n",
      " 18  long                     21597 non-null  float64\n",
      " 19  sqft_living15            21597 non-null  int64  \n",
      " 20  sqft_lot15               21597 non-null  int64  \n",
      " 21  median_household_income  21597 non-null  int64  \n",
      " 22  median_home_value        21597 non-null  int64  \n",
      "dtypes: float64(8), int64(13), object(2)\n",
      "memory usage: 3.8+ MB\n"
     ]
    }
   ],
   "source": [
    "initial_df.info()"
   ]
  },
  {
   "cell_type": "markdown",
   "metadata": {},
   "source": [
    "### Walk Score\n",
    "This is the process I took to obtain the Walk Score for each house in the dataset"
   ]
  },
  {
   "cell_type": "code",
   "execution_count": 72,
   "metadata": {},
   "outputs": [],
   "source": [
    "# required imports\n",
    "import requests\n",
    "import dotenv\n",
    "import os\n",
    "import geocoder\n",
    "import requests\n",
    "\n",
    "# use dotenv to keep API keys private\n",
    "dotenv_path = os.path.join(os.pardir, '.env')\n",
    "dotenv.load_dotenv(dotenv_path)\n",
    "\n",
    "# start a session\n",
    "s = requests.Session()"
   ]
  },
  {
   "cell_type": "code",
   "execution_count": 15,
   "metadata": {},
   "outputs": [],
   "source": [
    "# read in main dataframe\n",
    "df = pd.read_csv('../data/raw/kc_house_data.csv')"
   ]
  },
  {
   "cell_type": "code",
   "execution_count": 16,
   "metadata": {},
   "outputs": [
    {
     "data": {
      "text/html": [
       "<div>\n",
       "<style scoped>\n",
       "    .dataframe tbody tr th:only-of-type {\n",
       "        vertical-align: middle;\n",
       "    }\n",
       "\n",
       "    .dataframe tbody tr th {\n",
       "        vertical-align: top;\n",
       "    }\n",
       "\n",
       "    .dataframe thead th {\n",
       "        text-align: right;\n",
       "    }\n",
       "</style>\n",
       "<table border=\"1\" class=\"dataframe\">\n",
       "  <thead>\n",
       "    <tr style=\"text-align: right;\">\n",
       "      <th></th>\n",
       "      <th>id</th>\n",
       "      <th>date</th>\n",
       "      <th>price</th>\n",
       "      <th>bedrooms</th>\n",
       "      <th>bathrooms</th>\n",
       "      <th>sqft_living</th>\n",
       "      <th>sqft_lot</th>\n",
       "      <th>floors</th>\n",
       "      <th>waterfront</th>\n",
       "      <th>view</th>\n",
       "      <th>...</th>\n",
       "      <th>grade</th>\n",
       "      <th>sqft_above</th>\n",
       "      <th>sqft_basement</th>\n",
       "      <th>yr_built</th>\n",
       "      <th>yr_renovated</th>\n",
       "      <th>zipcode</th>\n",
       "      <th>lat</th>\n",
       "      <th>long</th>\n",
       "      <th>sqft_living15</th>\n",
       "      <th>sqft_lot15</th>\n",
       "    </tr>\n",
       "  </thead>\n",
       "  <tbody>\n",
       "    <tr>\n",
       "      <th>8287</th>\n",
       "      <td>7313200120</td>\n",
       "      <td>10/31/2014</td>\n",
       "      <td>605000.0</td>\n",
       "      <td>4</td>\n",
       "      <td>3.25</td>\n",
       "      <td>2885</td>\n",
       "      <td>33671</td>\n",
       "      <td>2.0</td>\n",
       "      <td>0.0</td>\n",
       "      <td>0.0</td>\n",
       "      <td>...</td>\n",
       "      <td>8</td>\n",
       "      <td>2885</td>\n",
       "      <td>0.0</td>\n",
       "      <td>1984</td>\n",
       "      <td>NaN</td>\n",
       "      <td>98027</td>\n",
       "      <td>47.5174</td>\n",
       "      <td>-122.046</td>\n",
       "      <td>1910</td>\n",
       "      <td>16000</td>\n",
       "    </tr>\n",
       "    <tr>\n",
       "      <th>15459</th>\n",
       "      <td>6072400280</td>\n",
       "      <td>6/19/2014</td>\n",
       "      <td>619850.0</td>\n",
       "      <td>4</td>\n",
       "      <td>2.50</td>\n",
       "      <td>2270</td>\n",
       "      <td>9247</td>\n",
       "      <td>1.0</td>\n",
       "      <td>0.0</td>\n",
       "      <td>0.0</td>\n",
       "      <td>...</td>\n",
       "      <td>8</td>\n",
       "      <td>1500</td>\n",
       "      <td>770.0</td>\n",
       "      <td>1972</td>\n",
       "      <td>0.0</td>\n",
       "      <td>98006</td>\n",
       "      <td>47.5602</td>\n",
       "      <td>-122.176</td>\n",
       "      <td>2270</td>\n",
       "      <td>9163</td>\n",
       "    </tr>\n",
       "    <tr>\n",
       "      <th>16482</th>\n",
       "      <td>8838900167</td>\n",
       "      <td>5/9/2014</td>\n",
       "      <td>542500.0</td>\n",
       "      <td>4</td>\n",
       "      <td>2.50</td>\n",
       "      <td>2330</td>\n",
       "      <td>14289</td>\n",
       "      <td>2.0</td>\n",
       "      <td>0.0</td>\n",
       "      <td>0.0</td>\n",
       "      <td>...</td>\n",
       "      <td>8</td>\n",
       "      <td>2330</td>\n",
       "      <td>0.0</td>\n",
       "      <td>1978</td>\n",
       "      <td>0.0</td>\n",
       "      <td>98007</td>\n",
       "      <td>47.5916</td>\n",
       "      <td>-122.148</td>\n",
       "      <td>2210</td>\n",
       "      <td>12823</td>\n",
       "    </tr>\n",
       "  </tbody>\n",
       "</table>\n",
       "<p>3 rows × 21 columns</p>\n",
       "</div>"
      ],
      "text/plain": [
       "               id        date     price  bedrooms  bathrooms  sqft_living  \\\n",
       "8287   7313200120  10/31/2014  605000.0         4       3.25         2885   \n",
       "15459  6072400280   6/19/2014  619850.0         4       2.50         2270   \n",
       "16482  8838900167    5/9/2014  542500.0         4       2.50         2330   \n",
       "\n",
       "       sqft_lot  floors  waterfront  view  ...  grade  sqft_above  \\\n",
       "8287      33671     2.0         0.0   0.0  ...      8        2885   \n",
       "15459      9247     1.0         0.0   0.0  ...      8        1500   \n",
       "16482     14289     2.0         0.0   0.0  ...      8        2330   \n",
       "\n",
       "       sqft_basement yr_built  yr_renovated  zipcode      lat     long  \\\n",
       "8287             0.0     1984           NaN    98027  47.5174 -122.046   \n",
       "15459          770.0     1972           0.0    98006  47.5602 -122.176   \n",
       "16482            0.0     1978           0.0    98007  47.5916 -122.148   \n",
       "\n",
       "       sqft_living15  sqft_lot15  \n",
       "8287            1910       16000  \n",
       "15459           2270        9163  \n",
       "16482           2210       12823  \n",
       "\n",
       "[3 rows x 21 columns]"
      ]
     },
     "execution_count": 16,
     "metadata": {},
     "output_type": "execute_result"
    }
   ],
   "source": [
    "df.sample(3)"
   ]
  },
  {
   "cell_type": "code",
   "execution_count": 17,
   "metadata": {},
   "outputs": [],
   "source": [
    "# get list of zipcodes, will use these to break up the api calls into \n",
    "# smaller chunks\n",
    "zips = list(df['zipcode'].unique())"
   ]
  },
  {
   "cell_type": "markdown",
   "metadata": {},
   "source": [
    "The Walk Score API requires that we send the street address with the lat and lon in our query, so first we have to use the Bing API, and save the street address in our DataFrame"
   ]
  },
  {
   "cell_type": "code",
   "execution_count": 24,
   "metadata": {},
   "outputs": [],
   "source": [
    "def fetch_address(house):\n",
    "    \"\"\"Reverse lookup the address for a house using its lat and lon\"\"\"\n",
    "    g = geocoder.bing([house.lat, house.long], method='reverse', key=key)\n",
    "\n",
    "    print(g.current_result, end=\"\\r\", flush=True)\n",
    "    return g.current_result"
   ]
  },
  {
   "cell_type": "code",
   "execution_count": 25,
   "metadata": {},
   "outputs": [
    {
     "name": "stdout",
     "output_type": "stream",
     "text": [
      "[1251 22nd Ave E, Seattle, WA 98112]\r"
     ]
    },
    {
     "data": {
      "text/plain": [
       "[1251 22nd Ave E, Seattle, WA 98112]"
      ]
     },
     "execution_count": 25,
     "metadata": {},
     "output_type": "execute_result"
    }
   ],
   "source": [
    "# create test house and test the fetch_address function\n",
    "test_house = df.sample()\n",
    "fetch_address(test_house)"
   ]
  },
  {
   "cell_type": "code",
   "execution_count": null,
   "metadata": {},
   "outputs": [],
   "source": [
    "# main loop for looking up address, split up by zipcode\n",
    "for code in zips:\n",
    "    temp_df = df[df['zipcode'] == code].copy()\n",
    "    temp_df['address'] = temp_df.apply(lambda x: fetch_address(x), axis=1)\n",
    "    temp_df.to_csv(f'../data/interim/addressed_houses_{code}.csv')\n",
    "    print(f'saved addresses in zip: {code}')"
   ]
  },
  {
   "cell_type": "markdown",
   "metadata": {},
   "source": [
    "This will save a temporary DataFrame for each zipcode. Let's import them all and combine them into our new dataframe with addresses."
   ]
  },
  {
   "cell_type": "code",
   "execution_count": 27,
   "metadata": {},
   "outputs": [],
   "source": [
    "def combine_temp_frames(name='temp', directory='../data/interim/'):\n",
    "    \"\"\"Take the name of sub dataframes to read and combine\n",
    "    \n",
    "    Args: \n",
    "        name (str): contains str to check for when parsing file names\n",
    "        directory (str): directory the temp frames are located in\n",
    "        \n",
    "    Returns:\n",
    "        combined_df (DataFrame): new combined dataframe\"\"\"\n",
    "    \n",
    "    interim_paths = os.listdir(directory)\n",
    "    \n",
    "    combined_df = pd.DataFrame()\n",
    "    for path in interim_paths:\n",
    "        if name in path:\n",
    "            temp_df = pd.read_csv(directory+path, index_col=0)\n",
    "            combined_df = pd.concat([combined_df, temp_df], axis=0)\n",
    "            \n",
    "    return combined_df"
   ]
  },
  {
   "cell_type": "code",
   "execution_count": 28,
   "metadata": {},
   "outputs": [],
   "source": [
    "# use our function to read in the dataframe that now has addresses\n",
    "addressed_df = combine_temp_frames('addressed')"
   ]
  },
  {
   "cell_type": "code",
   "execution_count": 192,
   "metadata": {},
   "outputs": [
    {
     "name": "stdout",
     "output_type": "stream",
     "text": [
      "<class 'pandas.core.frame.DataFrame'>\n",
      "Int64Index: 21597 entries, 65 to 21430\n",
      "Data columns (total 25 columns):\n",
      " #   Column         Non-Null Count  Dtype  \n",
      "---  ------         --------------  -----  \n",
      " 0   id             21597 non-null  int64  \n",
      " 1   date           21597 non-null  object \n",
      " 2   price          21597 non-null  float64\n",
      " 3   bedrooms       21597 non-null  int64  \n",
      " 4   bathrooms      21597 non-null  float64\n",
      " 5   sqft_living    21597 non-null  int64  \n",
      " 6   sqft_lot       21597 non-null  int64  \n",
      " 7   floors         21597 non-null  float64\n",
      " 8   waterfront     19221 non-null  float64\n",
      " 9   view           21534 non-null  float64\n",
      " 10  condition      21597 non-null  int64  \n",
      " 11  grade          21597 non-null  int64  \n",
      " 12  sqft_above     21597 non-null  int64  \n",
      " 13  sqft_basement  21597 non-null  object \n",
      " 14  yr_built       21597 non-null  int64  \n",
      " 15  yr_renovated   17755 non-null  float64\n",
      " 16  zipcode        21597 non-null  int64  \n",
      " 17  lat            21597 non-null  float64\n",
      " 18  long           21597 non-null  float64\n",
      " 19  sqft_living15  21597 non-null  int64  \n",
      " 20  sqft_lot15     21597 non-null  int64  \n",
      " 21  geometry       21597 non-null  object \n",
      " 22  school_kms     21597 non-null  float64\n",
      " 23  school_mins    21597 non-null  float64\n",
      " 24  address        21597 non-null  object \n",
      "dtypes: float64(10), int64(11), object(4)\n",
      "memory usage: 4.3+ MB\n"
     ]
    }
   ],
   "source": [
    "addressed_df.info()"
   ]
  },
  {
   "cell_type": "markdown",
   "metadata": {},
   "source": [
    "Now that we have the street address for each house, we can start looping through the data frame and looking up the Walk Scores for each house."
   ]
  },
  {
   "cell_type": "code",
   "execution_count": 29,
   "metadata": {},
   "outputs": [],
   "source": [
    "# we are going to need our API key for Walk Scores\n",
    "ws_key = os.getenv(\"WS\")"
   ]
  },
  {
   "cell_type": "code",
   "execution_count": 30,
   "metadata": {},
   "outputs": [],
   "source": [
    "# we will need a function to run for each house, that will contact the API\n",
    "# and return the desired information\n",
    "import json\n",
    "def fetch_scores(house):\n",
    "    \"\"\"Sends request to Walk Score API\n",
    "    \n",
    "    Args:\n",
    "        house (DataFrame row): row representing a house, must have 'address', 'lat', 'long'\n",
    "        \n",
    "    Returns:\n",
    "        (dict): contains walkscore, transit_score, bike_score, or {'error': 41} if our of api calls\"\"\"\n",
    "    \n",
    "    # url for api endpoint\n",
    "    url = 'http://api.walkscore.com/score'\n",
    "    \n",
    "    # desired params\n",
    "    params = {\n",
    "    'format': 'json',\n",
    "    'address': house['address'],\n",
    "    'lat': house['lat'],\n",
    "    'lon': house['long'],\n",
    "    'transit': 1, \n",
    "    'bike': 1,\n",
    "    'wsapikey': ws_key}\n",
    "    \n",
    "    # send request\n",
    "    res = s.get(url, params=params)\n",
    "    \n",
    "    # turn response into json\n",
    "    result = json.loads(res.content)\n",
    "    \n",
    "    if result['status'] != 1:\n",
    "        \n",
    "        # if unsuccesful:\n",
    "        return {\n",
    "            'error_code': result['status']\n",
    "        }\n",
    "    else:\n",
    "        \n",
    "        # if succesful:\n",
    "        return {\n",
    "            'walkscore': result['walkscore'] if 'walkscore' in result else None,\n",
    "            'transit_score': result['transit']['score'] if 'transit' in result else None,\n",
    "            'bike_score': result['bike']['score'] if 'bike' in result else None\n",
    "        }"
   ]
  },
  {
   "cell_type": "code",
   "execution_count": 210,
   "metadata": {},
   "outputs": [
    {
     "name": "stdout",
     "output_type": "stream",
     "text": [
      "{'error_code': 41}\n"
     ]
    }
   ],
   "source": [
    "# test on one sample from df\n",
    "test_house = addressed_df.sample()\n",
    "print(fetch_scores(test_house))"
   ]
  },
  {
   "cell_type": "code",
   "execution_count": 398,
   "metadata": {},
   "outputs": [
    {
     "data": {
      "text/plain": [
       "70"
      ]
     },
     "execution_count": 398,
     "metadata": {},
     "output_type": "execute_result"
    }
   ],
   "source": [
    "len(zips)"
   ]
  },
  {
   "cell_type": "code",
   "execution_count": 384,
   "metadata": {},
   "outputs": [
    {
     "name": "stdout",
     "output_type": "stream",
     "text": [
      "[98005, 98011, 98039, 98038, 98010, 98004, 98166, 98199, 98006, 98007, 98198, 98177, 98188, 98003, 98002, 98148, 98028, 98014, 98001, 98029, 98112, 98119, 98112, 98052, 98027, 98117, 98058, 98001, 98056, 98166, 98023, 98070, 98148, 98105, 98042, 98008, 98059, 98122, 98144, 98004, 98005, 98034, 98075, 98116, 98010, 98118, 98199, 98032, 98045, 98102, 98077, 98108, 98168, 98177, 98065, 98029, 98006, 98109, 98022, 98033, 98155, 98024, 98011, 98031, 98106, 98072, 98188, 98014, 98055, 98039, 98178, 98125]\n"
     ]
    }
   ],
   "source": [
    "print(finished_zips)"
   ]
  },
  {
   "cell_type": "code",
   "execution_count": 385,
   "metadata": {},
   "outputs": [
    {
     "data": {
      "text/plain": [
       "72"
      ]
     },
     "execution_count": 385,
     "metadata": {},
     "output_type": "execute_result"
    }
   ],
   "source": [
    "len(finished_zips)"
   ]
  },
  {
   "cell_type": "code",
   "execution_count": 382,
   "metadata": {},
   "outputs": [],
   "source": [
    "daily_limit = 5000\n",
    "finished_zips = [98005, 98011, 98039, 98038, 98010, 98004, 98166, 98199, 98006, 98007, 98198, 98177, 98188, 98003, 98002, 98148, 98028, 98014, 98001, 98029, 98112, 98119, 98112, 98052, 98027, 98117, 98058, 98001, 98056, 98166, 98023, 98070, 98148, 98105,\n",
    "                 98042, 98008, 98059, 98122, 98144, 98004, 98005, 98034, 98075, 98116, 98010, 98118, 98199, 98032, 98045, 98102, 98077, 98108, 98168, 98177, 98065, 98029, 98006, 98109, 98022, 98033, 98155, 98024, 98011, 98031, 98106, 98072, 98188, 98014, 98055, 98039]"
   ]
  },
  {
   "cell_type": "code",
   "execution_count": 409,
   "metadata": {},
   "outputs": [],
   "source": [
    "missed_zips = [98040, 98136, 98126, 98146, 98103, 98019, 98092, 98053, 98133, 98030]"
   ]
  },
  {
   "cell_type": "code",
   "execution_count": null,
   "metadata": {},
   "outputs": [],
   "source": [
    "# create a loop that will use all of the API calls granted in a one day period\n",
    "while daily_limit > 0:\n",
    "    for code in missed_zips:\n",
    "        temp_df = addressed_df[addressed_df['zipcode'] == code].copy()\n",
    "        \n",
    "        if daily_limit - temp_df.shape[0] < 0:\n",
    "            print(f'Out of calls. Last zip: {code}')\n",
    "            daily_limit = 0\n",
    "            break\n",
    "        \n",
    "        temp_df['scores'] = temp_df.apply(lambda x: fetch_scores(x), axis=1)\n",
    "        temp_df.to_csv(f'../data/interim/scored_houses_{code}.csv')\n",
    "        daily_limit -= temp_df.shape[0]\n",
    "        finished_zips.append(code)\n",
    "        print(f'saved addresses in zip: {code}')"
   ]
  },
  {
   "cell_type": "markdown",
   "metadata": {},
   "source": [
    "Now we have a sub DataFrame for each zipcode in King County. Let's combine them all into one and save it."
   ]
  },
  {
   "cell_type": "code",
   "execution_count": 411,
   "metadata": {},
   "outputs": [],
   "source": [
    "scored_df = combine_temp_frames('scored_houses')"
   ]
  },
  {
   "cell_type": "code",
   "execution_count": 412,
   "metadata": {},
   "outputs": [],
   "source": [
    "scored_df.drop_duplicates(inplace=True)"
   ]
  },
  {
   "cell_type": "code",
   "execution_count": 413,
   "metadata": {},
   "outputs": [
    {
     "name": "stdout",
     "output_type": "stream",
     "text": [
      "<class 'pandas.core.frame.DataFrame'>\n",
      "Int64Index: 21597 entries, 46 to 21539\n",
      "Data columns (total 26 columns):\n",
      " #   Column         Non-Null Count  Dtype  \n",
      "---  ------         --------------  -----  \n",
      " 0   id             21597 non-null  int64  \n",
      " 1   date           21597 non-null  object \n",
      " 2   price          21597 non-null  float64\n",
      " 3   bedrooms       21597 non-null  int64  \n",
      " 4   bathrooms      21597 non-null  float64\n",
      " 5   sqft_living    21597 non-null  int64  \n",
      " 6   sqft_lot       21597 non-null  int64  \n",
      " 7   floors         21597 non-null  float64\n",
      " 8   waterfront     19221 non-null  float64\n",
      " 9   view           21534 non-null  float64\n",
      " 10  condition      21597 non-null  int64  \n",
      " 11  grade          21597 non-null  int64  \n",
      " 12  sqft_above     21597 non-null  int64  \n",
      " 13  sqft_basement  21597 non-null  object \n",
      " 14  yr_built       21597 non-null  int64  \n",
      " 15  yr_renovated   17755 non-null  float64\n",
      " 16  zipcode        21597 non-null  int64  \n",
      " 17  lat            21597 non-null  float64\n",
      " 18  long           21597 non-null  float64\n",
      " 19  sqft_living15  21597 non-null  int64  \n",
      " 20  sqft_lot15     21597 non-null  int64  \n",
      " 21  geometry       21597 non-null  object \n",
      " 22  school_kms     21597 non-null  float64\n",
      " 23  school_mins    21597 non-null  float64\n",
      " 24  address        21597 non-null  object \n",
      " 25  scores         21597 non-null  object \n",
      "dtypes: float64(10), int64(11), object(5)\n",
      "memory usage: 4.4+ MB\n"
     ]
    }
   ],
   "source": [
    "scored_df.info()"
   ]
  },
  {
   "cell_type": "code",
   "execution_count": 414,
   "metadata": {},
   "outputs": [],
   "source": [
    "scored_df['walk_score'] = scored_df['scores'].apply(lambda x: x.split(',')[0].split(':')[1])\n",
    "scored_df['transit_score'] = scored_df['scores'].apply(lambda x: x.split(',')[1].split(':')[1])\n",
    "scored_df['bike_score'] = scored_df['scores'].apply(lambda x: x.split(',')[2].split(':')[1].strip('}'))"
   ]
  },
  {
   "cell_type": "code",
   "execution_count": 415,
   "metadata": {},
   "outputs": [],
   "source": [
    "scored_df = scored_df[['id', 'walk_score', 'transit_score', 'bike_score']].copy()\n",
    "scored_df = initial_df.set_index('id').join(scored_df.set_index('id'))\n",
    "scored_df.to_csv('../data/interim/scored_df.csv')"
   ]
  },
  {
   "cell_type": "code",
   "execution_count": 416,
   "metadata": {},
   "outputs": [],
   "source": [
    "scored_df = pd.read_csv('../data/interim/scored_df.csv', index_col=0)"
   ]
  },
  {
   "cell_type": "code",
   "execution_count": 417,
   "metadata": {},
   "outputs": [
    {
     "data": {
      "text/plain": [
       "1320"
      ]
     },
     "execution_count": 417,
     "metadata": {},
     "output_type": "execute_result"
    }
   ],
   "source": [
    "(scored_df['walk_score'] == ' None').sum()"
   ]
  },
  {
   "cell_type": "code",
   "execution_count": 418,
   "metadata": {},
   "outputs": [
    {
     "data": {
      "text/plain": [
       "[]"
      ]
     },
     "execution_count": 418,
     "metadata": {},
     "output_type": "execute_result"
    }
   ],
   "source": [
    "list(scored_df[scored_df['walk_score'].isna()]['zipcode'].unique())"
   ]
  },
  {
   "cell_type": "markdown",
   "metadata": {},
   "source": [
    "### Great Schools\n",
    "This is the process I took to obtain the Great Schools distances for each house in the dataset"
   ]
  },
  {
   "cell_type": "code",
   "execution_count": 75,
   "metadata": {},
   "outputs": [],
   "source": [
    "# grab our geo code API key\n",
    "geo_key = os.getenv(\"GEO_CODE\")\n",
    "bing_key = os.getenv(\"BING\")"
   ]
  },
  {
   "cell_type": "markdown",
   "metadata": {},
   "source": [
    "Define some helper functions"
   ]
  },
  {
   "cell_type": "code",
   "execution_count": 41,
   "metadata": {},
   "outputs": [],
   "source": [
    "from haversine import haversine\n",
    "\n",
    "def find_nearest(source, targets_df, num):\n",
    "    \"\"\"Use haversine to calculate closes schools to target house\n",
    "    \n",
    "    Args: \n",
    "        source (DataFrame row): source, must have 'lat' and 'lon'\n",
    "        targets_df (DataFrame): DF of targets, each must have 'lat' and 'lon'\n",
    "        num (int): num of nearest targets to return\n",
    "        \n",
    "    Returns:\n",
    "        results_df (DataFrame): DataFrame of 'num' closest target rows\n",
    "    \"\"\"\n",
    "    \n",
    "    results_df = schools_df.copy()\n",
    "    results_df['distance_to_house'] = results_df.apply(lambda x: haversine((source['lat'], source['long']), (x['lat'], x['long'])), axis='columns')\n",
    "    return results_df.sort_values('distance_to_house').head(num)"
   ]
  },
  {
   "cell_type": "code",
   "execution_count": 83,
   "metadata": {},
   "outputs": [],
   "source": [
    "def school_commutes(house, schools_df, num_schools=10):\n",
    "    \"\"\"Return the driving time and distance from house to 'num_schools' schools\n",
    "    \n",
    "    Args: \n",
    "        house (DataFrame row): house to find distances for\n",
    "        schools_df (DataFrame): dataframe to find school lat/lon\n",
    "        num_schools (int): how many schools to check distance\n",
    "        \n",
    "    Returns:\n",
    "        results (list): list of 'num_schools' results, drive time (mins) and drive distance (miles)\n",
    "    \"\"\"\n",
    "    bing_url = f'https://dev.virtualearth.net/REST/v1/Routes/DistanceMatrix?key={bing_key}'\n",
    "    closest_schools_df = find_nearest(house, schools_df, num_schools)\n",
    "    \n",
    "    # build params\n",
    "    school_coords = zip(round(closest_schools_df['lat'], 6), round(closest_schools_df['long'], 6))\n",
    "    params = { \n",
    "        'origins': [\n",
    "            { 'latitude': house['lat'], 'longitude': house['long'] }\n",
    "        ], \n",
    "        'destinations': [], \n",
    "        'travelMode': 'driving'}\n",
    "    \n",
    "    for coords in school_coords:\n",
    "        destination = { 'latitude': coords[0], 'longitude': coords[1] }\n",
    "        params['destinations'].append(destination)\n",
    "    \n",
    "    # build result row\n",
    "    results = []\n",
    "    # return result row\n",
    "    res = requests.post(bing_url, json=params)\n",
    "    content = json.loads(res.content)\n",
    "    return content['resourceSets'][0]['resources'][0]['results']"
   ]
  },
  {
   "cell_type": "code",
   "execution_count": 43,
   "metadata": {},
   "outputs": [],
   "source": [
    "def closest_school_score(distance_results):\n",
    "    \"\"\"Take some distance results and find nearest result\"\"\"\n",
    "    \n",
    "    distance = 1000000 # max\n",
    "    duration = 1000000 # max\n",
    "    for result in distance_results:\n",
    "        if result['travelDistance'] < distance:\n",
    "            distance = result['travelDistance']\n",
    "        if result['travelDuration'] < duration:\n",
    "            duration = result['travelDuration']\n",
    "    return { 'distance': distance, 'duration': duration }"
   ]
  },
  {
   "cell_type": "code",
   "execution_count": 44,
   "metadata": {},
   "outputs": [],
   "source": [
    "def save_closest_school(house, schools_df, num_schools=10):\n",
    "    results = school_commutes(house, schools_df, num_schools)\n",
    "    return closest_school_score(results)"
   ]
  },
  {
   "cell_type": "markdown",
   "metadata": {},
   "source": [
    "The 'schools_df' used in these functions was created using a python script in '../src/data/SchoolCrawler.py'"
   ]
  },
  {
   "cell_type": "code",
   "execution_count": 84,
   "metadata": {},
   "outputs": [
    {
     "name": "stdout",
     "output_type": "stream",
     "text": [
      "[{'destinationIndex': 0,\n",
      "  'originIndex': 0,\n",
      "  'totalWalkDuration': 0,\n",
      "  'travelDistance': 8.649,\n",
      "  'travelDuration': 12.15},\n",
      " {'destinationIndex': 1,\n",
      "  'originIndex': 0,\n",
      "  'totalWalkDuration': 0,\n",
      "  'travelDistance': 8.828,\n",
      "  'travelDuration': 12.367},\n",
      " {'destinationIndex': 2,\n",
      "  'originIndex': 0,\n",
      "  'totalWalkDuration': 0,\n",
      "  'travelDistance': 17.797,\n",
      "  'travelDuration': 22.717},\n",
      " {'destinationIndex': 3,\n",
      "  'originIndex': 0,\n",
      "  'totalWalkDuration': 0,\n",
      "  'travelDistance': 9.534,\n",
      "  'travelDuration': 15.117},\n",
      " {'destinationIndex': 4,\n",
      "  'originIndex': 0,\n",
      "  'totalWalkDuration': 0,\n",
      "  'travelDistance': 10.982,\n",
      "  'travelDuration': 14.617},\n",
      " {'destinationIndex': 5,\n",
      "  'originIndex': 0,\n",
      "  'totalWalkDuration': 0,\n",
      "  'travelDistance': 9.129,\n",
      "  'travelDuration': 21.433},\n",
      " {'destinationIndex': 6,\n",
      "  'originIndex': 0,\n",
      "  'totalWalkDuration': 0,\n",
      "  'travelDistance': 10.965,\n",
      "  'travelDuration': 20.033},\n",
      " {'destinationIndex': 7,\n",
      "  'originIndex': 0,\n",
      "  'totalWalkDuration': 0,\n",
      "  'travelDistance': 13.673,\n",
      "  'travelDuration': 19.267},\n",
      " {'destinationIndex': 8,\n",
      "  'originIndex': 0,\n",
      "  'totalWalkDuration': 0,\n",
      "  'travelDistance': 11.001,\n",
      "  'travelDuration': 23.283},\n",
      " {'destinationIndex': 9,\n",
      "  'originIndex': 0,\n",
      "  'totalWalkDuration': 0,\n",
      "  'travelDistance': 12.124,\n",
      "  'travelDuration': 22.7}]\n"
     ]
    }
   ],
   "source": [
    "# do a test\n",
    "from pprint import pprint\n",
    "schools_df = pd.read_csv('../data/raw/school_ratings.csv', index_col=0)\n",
    "results = school_commutes(addressed_df.iloc[1], schools_df, 10)\n",
    "pprint(results)"
   ]
  },
  {
   "cell_type": "code",
   "execution_count": 85,
   "metadata": {},
   "outputs": [],
   "source": [
    "# run a small subset to test out the loop\n",
    "sample_df = df.sample(25).copy()\n",
    "sample_df['top_schools'] = sample_df.apply(lambda x: save_closest_school(x, schools_df), axis=1)"
   ]
  },
  {
   "cell_type": "code",
   "execution_count": 89,
   "metadata": {},
   "outputs": [
    {
     "data": {
      "text/plain": [
       "9562     {'distance': 11.212, 'duration': 19.45}\n",
       "4576        {'distance': 2.816, 'duration': 3.8}\n",
       "13214     {'distance': 8.895, 'duration': 12.25}\n",
       "Name: top_schools, dtype: object"
      ]
     },
     "execution_count": 89,
     "metadata": {},
     "output_type": "execute_result"
    }
   ],
   "source": [
    "sample_df['top_schools'].sample(3)"
   ]
  },
  {
   "cell_type": "code",
   "execution_count": null,
   "metadata": {},
   "outputs": [],
   "source": [
    "# now  that we know it works, run it for the entire dataset,\n",
    "# breaking it down into zipcode sized chunks\n",
    "for z in zips:\n",
    "    temp_df = df[df['zipcode'] == z].copy()\n",
    "    temp_df['top_schools'] = temp_df.apply(lambda x: save_closest_school(x, schools_df), axis=1)\n",
    "    temp_df.to_csv(f'../data/interim/temp_{z}.csv')\n",
    "    print(f'completed homes in zip {z}')"
   ]
  },
  {
   "cell_type": "markdown",
   "metadata": {},
   "source": [
    "Now we can recombine the temp sub dataframes, create a column for each metric, and have our completed dataframe"
   ]
  },
  {
   "cell_type": "code",
   "execution_count": 342,
   "metadata": {},
   "outputs": [],
   "source": [
    "schools_df = combine_temp_frames('temp')"
   ]
  },
  {
   "cell_type": "code",
   "execution_count": 343,
   "metadata": {},
   "outputs": [],
   "source": [
    "schools_df['school_kms'] = schools_df['top_schools'].map(lambda x: float(x.split(' ')[1].strip(',')))\n",
    "schools_df['school_mins'] = schools_df['top_schools'].map(lambda x: float(x.split(' ')[3].strip(',}')))"
   ]
  },
  {
   "cell_type": "code",
   "execution_count": 344,
   "metadata": {},
   "outputs": [
    {
     "data": {
      "text/html": [
       "<div>\n",
       "<style scoped>\n",
       "    .dataframe tbody tr th:only-of-type {\n",
       "        vertical-align: middle;\n",
       "    }\n",
       "\n",
       "    .dataframe tbody tr th {\n",
       "        vertical-align: top;\n",
       "    }\n",
       "\n",
       "    .dataframe thead th {\n",
       "        text-align: right;\n",
       "    }\n",
       "</style>\n",
       "<table border=\"1\" class=\"dataframe\">\n",
       "  <thead>\n",
       "    <tr style=\"text-align: right;\">\n",
       "      <th></th>\n",
       "      <th>id</th>\n",
       "      <th>date</th>\n",
       "      <th>price</th>\n",
       "      <th>bedrooms</th>\n",
       "      <th>bathrooms</th>\n",
       "      <th>sqft_living</th>\n",
       "      <th>sqft_lot</th>\n",
       "      <th>floors</th>\n",
       "      <th>waterfront</th>\n",
       "      <th>view</th>\n",
       "      <th>...</th>\n",
       "      <th>yr_renovated</th>\n",
       "      <th>zipcode</th>\n",
       "      <th>lat</th>\n",
       "      <th>long</th>\n",
       "      <th>sqft_living15</th>\n",
       "      <th>sqft_lot15</th>\n",
       "      <th>geometry</th>\n",
       "      <th>top_schools</th>\n",
       "      <th>school_kms</th>\n",
       "      <th>school_mins</th>\n",
       "    </tr>\n",
       "  </thead>\n",
       "  <tbody>\n",
       "    <tr>\n",
       "      <th>12083</th>\n",
       "      <td>1432900310</td>\n",
       "      <td>4/24/2015</td>\n",
       "      <td>320000.0</td>\n",
       "      <td>4</td>\n",
       "      <td>1.5</td>\n",
       "      <td>2020</td>\n",
       "      <td>8474</td>\n",
       "      <td>1.0</td>\n",
       "      <td>0.0</td>\n",
       "      <td>0.0</td>\n",
       "      <td>...</td>\n",
       "      <td>0.0</td>\n",
       "      <td>98058</td>\n",
       "      <td>47.4579</td>\n",
       "      <td>-122.170</td>\n",
       "      <td>1720</td>\n",
       "      <td>8166</td>\n",
       "      <td>POINT (-122.17 47.4579)</td>\n",
       "      <td>{'distance': 18.525, 'duration': 19.483}</td>\n",
       "      <td>18.525</td>\n",
       "      <td>19.483</td>\n",
       "    </tr>\n",
       "    <tr>\n",
       "      <th>16355</th>\n",
       "      <td>4083301950</td>\n",
       "      <td>11/20/2014</td>\n",
       "      <td>580000.0</td>\n",
       "      <td>2</td>\n",
       "      <td>1.0</td>\n",
       "      <td>1040</td>\n",
       "      <td>3200</td>\n",
       "      <td>1.0</td>\n",
       "      <td>0.0</td>\n",
       "      <td>0.0</td>\n",
       "      <td>...</td>\n",
       "      <td>0.0</td>\n",
       "      <td>98103</td>\n",
       "      <td>47.6558</td>\n",
       "      <td>-122.334</td>\n",
       "      <td>1890</td>\n",
       "      <td>4000</td>\n",
       "      <td>POINT (-122.334 47.6558)</td>\n",
       "      <td>{'distance': 4.057, 'duration': 7.75}</td>\n",
       "      <td>4.057</td>\n",
       "      <td>7.750</td>\n",
       "    </tr>\n",
       "    <tr>\n",
       "      <th>13513</th>\n",
       "      <td>1787600209</td>\n",
       "      <td>9/9/2014</td>\n",
       "      <td>432500.0</td>\n",
       "      <td>3</td>\n",
       "      <td>2.5</td>\n",
       "      <td>1340</td>\n",
       "      <td>8867</td>\n",
       "      <td>2.0</td>\n",
       "      <td>0.0</td>\n",
       "      <td>0.0</td>\n",
       "      <td>...</td>\n",
       "      <td>0.0</td>\n",
       "      <td>98125</td>\n",
       "      <td>47.7240</td>\n",
       "      <td>-122.327</td>\n",
       "      <td>1630</td>\n",
       "      <td>7287</td>\n",
       "      <td>POINT (-122.327 47.724)</td>\n",
       "      <td>{'distance': 5.975, 'duration': 7.7}</td>\n",
       "      <td>5.975</td>\n",
       "      <td>7.700</td>\n",
       "    </tr>\n",
       "  </tbody>\n",
       "</table>\n",
       "<p>3 rows × 25 columns</p>\n",
       "</div>"
      ],
      "text/plain": [
       "               id        date     price  bedrooms  bathrooms  sqft_living  \\\n",
       "12083  1432900310   4/24/2015  320000.0         4        1.5         2020   \n",
       "16355  4083301950  11/20/2014  580000.0         2        1.0         1040   \n",
       "13513  1787600209    9/9/2014  432500.0         3        2.5         1340   \n",
       "\n",
       "       sqft_lot  floors  waterfront  view  ...  yr_renovated  zipcode  \\\n",
       "12083      8474     1.0         0.0   0.0  ...           0.0    98058   \n",
       "16355      3200     1.0         0.0   0.0  ...           0.0    98103   \n",
       "13513      8867     2.0         0.0   0.0  ...           0.0    98125   \n",
       "\n",
       "           lat     long  sqft_living15  sqft_lot15                  geometry  \\\n",
       "12083  47.4579 -122.170           1720        8166   POINT (-122.17 47.4579)   \n",
       "16355  47.6558 -122.334           1890        4000  POINT (-122.334 47.6558)   \n",
       "13513  47.7240 -122.327           1630        7287   POINT (-122.327 47.724)   \n",
       "\n",
       "                                    top_schools  school_kms  school_mins  \n",
       "12083  {'distance': 18.525, 'duration': 19.483}      18.525       19.483  \n",
       "16355     {'distance': 4.057, 'duration': 7.75}       4.057        7.750  \n",
       "13513      {'distance': 5.975, 'duration': 7.7}       5.975        7.700  \n",
       "\n",
       "[3 rows x 25 columns]"
      ]
     },
     "execution_count": 344,
     "metadata": {},
     "output_type": "execute_result"
    }
   ],
   "source": [
    "schools_df.sample(3)"
   ]
  },
  {
   "cell_type": "code",
   "execution_count": 345,
   "metadata": {},
   "outputs": [
    {
     "name": "stdout",
     "output_type": "stream",
     "text": [
      "<class 'pandas.core.frame.DataFrame'>\n",
      "Int64Index: 21597 entries, 70 to 21396\n",
      "Data columns (total 25 columns):\n",
      " #   Column         Non-Null Count  Dtype  \n",
      "---  ------         --------------  -----  \n",
      " 0   id             21597 non-null  int64  \n",
      " 1   date           21597 non-null  object \n",
      " 2   price          21597 non-null  float64\n",
      " 3   bedrooms       21597 non-null  int64  \n",
      " 4   bathrooms      21597 non-null  float64\n",
      " 5   sqft_living    21597 non-null  int64  \n",
      " 6   sqft_lot       21597 non-null  int64  \n",
      " 7   floors         21597 non-null  float64\n",
      " 8   waterfront     19221 non-null  float64\n",
      " 9   view           21534 non-null  float64\n",
      " 10  condition      21597 non-null  int64  \n",
      " 11  grade          21597 non-null  int64  \n",
      " 12  sqft_above     21597 non-null  int64  \n",
      " 13  sqft_basement  21597 non-null  object \n",
      " 14  yr_built       21597 non-null  int64  \n",
      " 15  yr_renovated   17755 non-null  float64\n",
      " 16  zipcode        21597 non-null  int64  \n",
      " 17  lat            21597 non-null  float64\n",
      " 18  long           21597 non-null  float64\n",
      " 19  sqft_living15  21597 non-null  int64  \n",
      " 20  sqft_lot15     21597 non-null  int64  \n",
      " 21  geometry       21597 non-null  object \n",
      " 22  top_schools    21597 non-null  object \n",
      " 23  school_kms     21597 non-null  float64\n",
      " 24  school_mins    21597 non-null  float64\n",
      "dtypes: float64(10), int64(11), object(4)\n",
      "memory usage: 4.3+ MB\n"
     ]
    }
   ],
   "source": [
    "schools_df.info()"
   ]
  },
  {
   "cell_type": "code",
   "execution_count": 346,
   "metadata": {},
   "outputs": [],
   "source": [
    "schools_df = schools_df[['school_kms', 'school_mins', 'id']].copy()"
   ]
  },
  {
   "cell_type": "code",
   "execution_count": 419,
   "metadata": {},
   "outputs": [],
   "source": [
    "scored_df = pd.read_csv('../data/interim/scored_df.csv', index_col=0)\n",
    "combined_df = schools_df.set_index('id').join(scored_df)"
   ]
  },
  {
   "cell_type": "code",
   "execution_count": 420,
   "metadata": {},
   "outputs": [],
   "source": [
    "combined_df = combined_df.reset_index()"
   ]
  },
  {
   "cell_type": "code",
   "execution_count": 421,
   "metadata": {},
   "outputs": [],
   "source": [
    "combined_df.drop_duplicates(inplace=True)"
   ]
  },
  {
   "cell_type": "code",
   "execution_count": 422,
   "metadata": {},
   "outputs": [
    {
     "name": "stdout",
     "output_type": "stream",
     "text": [
      "<class 'pandas.core.frame.DataFrame'>\n",
      "Int64Index: 21597 entries, 0 to 22670\n",
      "Data columns (total 28 columns):\n",
      " #   Column                   Non-Null Count  Dtype  \n",
      "---  ------                   --------------  -----  \n",
      " 0   id                       21597 non-null  int64  \n",
      " 1   school_kms               21597 non-null  float64\n",
      " 2   school_mins              21597 non-null  float64\n",
      " 3   date                     21597 non-null  object \n",
      " 4   price                    21597 non-null  float64\n",
      " 5   bedrooms                 21597 non-null  int64  \n",
      " 6   bathrooms                21597 non-null  float64\n",
      " 7   sqft_living              21597 non-null  int64  \n",
      " 8   sqft_lot                 21597 non-null  int64  \n",
      " 9   floors                   21597 non-null  float64\n",
      " 10  waterfront               19221 non-null  float64\n",
      " 11  view                     21534 non-null  float64\n",
      " 12  condition                21597 non-null  int64  \n",
      " 13  grade                    21597 non-null  int64  \n",
      " 14  sqft_above               21597 non-null  int64  \n",
      " 15  sqft_basement            21597 non-null  object \n",
      " 16  yr_built                 21597 non-null  int64  \n",
      " 17  yr_renovated             17755 non-null  float64\n",
      " 18  zipcode                  21597 non-null  int64  \n",
      " 19  lat                      21597 non-null  float64\n",
      " 20  long                     21597 non-null  float64\n",
      " 21  sqft_living15            21597 non-null  int64  \n",
      " 22  sqft_lot15               21597 non-null  int64  \n",
      " 23  median_household_income  21597 non-null  int64  \n",
      " 24  median_home_value        21597 non-null  int64  \n",
      " 25  walk_score               21597 non-null  object \n",
      " 26  transit_score            21597 non-null  object \n",
      " 27  bike_score               21597 non-null  object \n",
      "dtypes: float64(10), int64(13), object(5)\n",
      "memory usage: 4.8+ MB\n"
     ]
    }
   ],
   "source": [
    "combined_df.info()"
   ]
  },
  {
   "cell_type": "code",
   "execution_count": 423,
   "metadata": {},
   "outputs": [],
   "source": [
    "combined_df.to_csv('../data/interim/combined_df.csv')"
   ]
  },
  {
   "cell_type": "code",
   "execution_count": null,
   "metadata": {},
   "outputs": [],
   "source": []
  }
 ],
 "metadata": {
  "kernelspec": {
   "display_name": "Python [conda env:gpd] *",
   "language": "python",
   "name": "conda-env-gpd-py"
  },
  "language_info": {
   "codemirror_mode": {
    "name": "ipython",
    "version": 3
   },
   "file_extension": ".py",
   "mimetype": "text/x-python",
   "name": "python",
   "nbconvert_exporter": "python",
   "pygments_lexer": "ipython3",
   "version": "3.7.7"
  }
 },
 "nbformat": 4,
 "nbformat_minor": 4
}
